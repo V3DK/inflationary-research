{
 "cells": [
  {
   "cell_type": "code",
   "execution_count": 5,
   "metadata": {},
   "outputs": [
    {
     "name": "stdout",
     "output_type": "stream",
     "text": [
      "3.7.9 (default, Aug 31 2020, 07:22:35) \n",
      "[Clang 10.0.0 ]\n"
     ]
    }
   ],
   "source": [
    "import matplotlib.pyplot as plt\n",
    "import numpy as np\n",
    "from scipy.integrate import solve_ivp\n",
    "\n",
    "import sys\n",
    "print (sys.version)"
   ]
  },
  {
   "cell_type": "code",
   "execution_count": 4,
   "metadata": {},
   "outputs": [
    {
     "name": "stdout",
     "output_type": "stream",
     "text": [
      "Collecting git+https://github.com/nanograv/PINT.git\n",
      "  Cloning https://github.com/nanograv/PINT.git to /private/var/folders/n0/6lc5_8690gz45p4xcxg6tcg40000gn/T/pip-req-build-i7svin_t\n",
      "Requirement already satisfied: numpy>=1.18.5 in /Users/ved/miniconda3/envs/enterprise/lib/python3.7/site-packages (from pint-pulsar==0.9.6+16.g40dec33c) (1.19.2)\n",
      "Requirement already satisfied: astropy!=4.0.1,!=4.0.1.post1,>=4.0 in /Users/ved/miniconda3/envs/enterprise/lib/python3.7/site-packages (from pint-pulsar==0.9.6+16.g40dec33c) (4.2.1)\n",
      "Requirement already satisfied: pyerfa in /Users/ved/miniconda3/envs/enterprise/lib/python3.7/site-packages (from pint-pulsar==0.9.6+16.g40dec33c) (1.7.1.1)\n",
      "Requirement already satisfied: scipy>=1.4.1 in /Users/ved/miniconda3/envs/enterprise/lib/python3.7/site-packages (from pint-pulsar==0.9.6+16.g40dec33c) (1.6.0)\n",
      "Requirement already satisfied: jplephem>=2.6 in /Users/ved/miniconda3/envs/enterprise/lib/python3.7/site-packages (from pint-pulsar==0.9.6+16.g40dec33c) (2.18)\n",
      "Requirement already satisfied: matplotlib>=3.2.0 in /Users/ved/miniconda3/envs/enterprise/lib/python3.7/site-packages (from pint-pulsar==0.9.6+16.g40dec33c) (3.3.2)\n",
      "Requirement already satisfied: corner>=2.0.1 in /Users/ved/miniconda3/envs/enterprise/lib/python3.7/site-packages (from pint-pulsar==0.9.6+16.g40dec33c) (2.2.1)\n",
      "\u001b[31mERROR: Package 'pint-pulsar' requires a different Python: 3.7.9 not in '>=3.8'\u001b[0m\n",
      "Collecting git+https://github.com/vallis/libstempo.git\n",
      "  Cloning https://github.com/vallis/libstempo.git to /private/var/folders/n0/6lc5_8690gz45p4xcxg6tcg40000gn/T/pip-req-build-pl_5vc2g\n",
      "  Installing build dependencies ... \u001b[?25ldone\n",
      "\u001b[?25h  Getting requirements to build wheel ... \u001b[?25lerror\n",
      "\u001b[31m  ERROR: Command errored out with exit status 1:\n",
      "   command: /Users/ved/miniconda3/envs/enterprise/bin/python3.7 /Users/ved/miniconda3/envs/enterprise/lib/python3.7/site-packages/pip/_vendor/pep517/_in_process.py get_requires_for_build_wheel /var/folders/n0/6lc5_8690gz45p4xcxg6tcg40000gn/T/tmpqbnvglhq\n",
      "       cwd: /private/var/folders/n0/6lc5_8690gz45p4xcxg6tcg40000gn/T/pip-req-build-pl_5vc2g\n",
      "  Complete output (217 lines):\n",
      "  \n",
      "  Error compiling Cython file:\n",
      "  ------------------------------------------------------------\n",
      "  ...\n",
      "  cdef class tempopulsar:\n",
      "      \"\"\"tempopulsar(parfile, timfile=None, warnings=False, fixprefiterrors=True,\n",
      "                     dofit=False, maxobs=None, units=False, ephem=None, t2cmethod=None,\n",
      "                     toas=None, toaerrs=None, observatory=None, obsfreq=1400)\"\"\"\n",
      "  \n",
      "      cpdef public object parfile\n",
      "            ^\n",
      "  ------------------------------------------------------------\n",
      "  \n",
      "  libstempo/libstempo.pyx:630:10: Variables cannot be declared with 'cpdef'. Use 'cdef' instead.\n",
      "  \n",
      "  Error compiling Cython file:\n",
      "  ------------------------------------------------------------\n",
      "  ...\n",
      "      \"\"\"tempopulsar(parfile, timfile=None, warnings=False, fixprefiterrors=True,\n",
      "                     dofit=False, maxobs=None, units=False, ephem=None, t2cmethod=None,\n",
      "                     toas=None, toaerrs=None, observatory=None, obsfreq=1400)\"\"\"\n",
      "  \n",
      "      cpdef public object parfile\n",
      "      cpdef public object timfile\n",
      "            ^\n",
      "  ------------------------------------------------------------\n",
      "  \n",
      "  libstempo/libstempo.pyx:631:10: Variables cannot be declared with 'cpdef'. Use 'cdef' instead.\n",
      "  \n",
      "  Error compiling Cython file:\n",
      "  ------------------------------------------------------------\n",
      "  ...\n",
      "                     toas=None, toaerrs=None, observatory=None, obsfreq=1400)\"\"\"\n",
      "  \n",
      "      cpdef public object parfile\n",
      "      cpdef public object timfile\n",
      "  \n",
      "      cpdef public object units\n",
      "            ^\n",
      "  ------------------------------------------------------------\n",
      "  \n",
      "  libstempo/libstempo.pyx:633:10: Variables cannot be declared with 'cpdef'. Use 'cdef' instead.\n",
      "  \n",
      "  Error compiling Cython file:\n",
      "  ------------------------------------------------------------\n",
      "  ...\n",
      "      cpdef public object units\n",
      "  \n",
      "      cdef int npsr           # number of pulsars\n",
      "      cdef pulsar *psr        # array of pulsar structures\n",
      "  \n",
      "      cpdef object pardict    # dictionary of parameter proxies\n",
      "            ^\n",
      "  ------------------------------------------------------------\n",
      "  \n",
      "  libstempo/libstempo.pyx:638:10: Variables cannot be declared with 'cpdef'. Use 'cdef' instead.\n",
      "  \n",
      "  Error compiling Cython file:\n",
      "  ------------------------------------------------------------\n",
      "  ...\n",
      "      cdef int npsr           # number of pulsars\n",
      "      cdef pulsar *psr        # array of pulsar structures\n",
      "  \n",
      "      cpdef object pardict    # dictionary of parameter proxies\n",
      "  \n",
      "      cpdef int nobs_         # number of observations\n",
      "            ^\n",
      "  ------------------------------------------------------------\n",
      "  \n",
      "  libstempo/libstempo.pyx:640:10: Variables cannot be declared with 'cpdef'. Use 'cdef' instead.\n",
      "  \n",
      "  Error compiling Cython file:\n",
      "  ------------------------------------------------------------\n",
      "  ...\n",
      "  \n",
      "      cpdef object pardict    # dictionary of parameter proxies\n",
      "  \n",
      "      cpdef int nobs_         # number of observations\n",
      "  \n",
      "      cpdef object flagnames_ # a list of all flags that have values\n",
      "            ^\n",
      "  ------------------------------------------------------------\n",
      "  \n",
      "  libstempo/libstempo.pyx:642:10: Variables cannot be declared with 'cpdef'. Use 'cdef' instead.\n",
      "  \n",
      "  Error compiling Cython file:\n",
      "  ------------------------------------------------------------\n",
      "  ...\n",
      "      cpdef object pardict    # dictionary of parameter proxies\n",
      "  \n",
      "      cpdef int nobs_         # number of observations\n",
      "  \n",
      "      cpdef object flagnames_ # a list of all flags that have values\n",
      "      cpdef object flags_     # a dictionary of numpy arrays with flag values\n",
      "            ^\n",
      "  ------------------------------------------------------------\n",
      "  \n",
      "  libstempo/libstempo.pyx:643:10: Variables cannot be declared with 'cpdef'. Use 'cdef' instead.\n",
      "  \n",
      "  Error compiling Cython file:\n",
      "  ------------------------------------------------------------\n",
      "  ...\n",
      "      cpdef int nobs_         # number of observations\n",
      "  \n",
      "      cpdef object flagnames_ # a list of all flags that have values\n",
      "      cpdef object flags_     # a dictionary of numpy arrays with flag values\n",
      "  \n",
      "      cpdef public object noisemodel\n",
      "            ^\n",
      "  ------------------------------------------------------------\n",
      "  \n",
      "  libstempo/libstempo.pyx:645:10: Variables cannot be declared with 'cpdef'. Use 'cdef' instead.\n",
      "  \n",
      "  Error compiling Cython file:\n",
      "  ------------------------------------------------------------\n",
      "  ...\n",
      "      cpdef object flagnames_ # a list of all flags that have values\n",
      "      cpdef object flags_     # a dictionary of numpy arrays with flag values\n",
      "  \n",
      "      cpdef public object noisemodel\n",
      "  \n",
      "      cpdef object __input_toas  # input TOAs\n",
      "            ^\n",
      "  ------------------------------------------------------------\n",
      "  \n",
      "  libstempo/libstempo.pyx:647:10: Variables cannot be declared with 'cpdef'. Use 'cdef' instead.\n",
      "  \n",
      "  Error compiling Cython file:\n",
      "  ------------------------------------------------------------\n",
      "  ...\n",
      "      cpdef object flags_     # a dictionary of numpy arrays with flag values\n",
      "  \n",
      "      cpdef public object noisemodel\n",
      "  \n",
      "      cpdef object __input_toas  # input TOAs\n",
      "      cpdef object __input_toaerrs  # input TOA errors (us)\n",
      "            ^\n",
      "  ------------------------------------------------------------\n",
      "  \n",
      "  libstempo/libstempo.pyx:648:10: Variables cannot be declared with 'cpdef'. Use 'cdef' instead.\n",
      "  \n",
      "  Error compiling Cython file:\n",
      "  ------------------------------------------------------------\n",
      "  ...\n",
      "  \n",
      "      cpdef public object noisemodel\n",
      "  \n",
      "      cpdef object __input_toas  # input TOAs\n",
      "      cpdef object __input_toaerrs  # input TOA errors (us)\n",
      "      cpdef object __input_observatory  # input observatories\n",
      "            ^\n",
      "  ------------------------------------------------------------\n",
      "  \n",
      "  libstempo/libstempo.pyx:649:10: Variables cannot be declared with 'cpdef'. Use 'cdef' instead.\n",
      "  \n",
      "  Error compiling Cython file:\n",
      "  ------------------------------------------------------------\n",
      "  ...\n",
      "      cpdef public object noisemodel\n",
      "  \n",
      "      cpdef object __input_toas  # input TOAs\n",
      "      cpdef object __input_toaerrs  # input TOA errors (us)\n",
      "      cpdef object __input_observatory  # input observatories\n",
      "      cpdef object __input_obsfreq   # input observation frequencies\n",
      "            ^\n",
      "  ------------------------------------------------------------\n",
      "  \n",
      "  libstempo/libstempo.pyx:650:10: Variables cannot be declared with 'cpdef'. Use 'cdef' instead.\n",
      "  \n",
      "  Error compiling Cython file:\n",
      "  ------------------------------------------------------------\n",
      "  ...\n",
      "      cpdef object __input_toaerrs  # input TOA errors (us)\n",
      "      cpdef object __input_observatory  # input observatories\n",
      "      cpdef object __input_obsfreq   # input observation frequencies\n",
      "  \n",
      "      # TO DO: is cpdef required here?\n",
      "      cpdef jumpval, jumperr\n",
      "            ^\n",
      "  ------------------------------------------------------------\n",
      "  \n",
      "  libstempo/libstempo.pyx:653:10: Variables cannot be declared with 'cpdef'. Use 'cdef' instead.\n",
      "  \n",
      "  Error compiling Cython file:\n",
      "  ------------------------------------------------------------\n",
      "  ...\n",
      "      cpdef object __input_toaerrs  # input TOA errors (us)\n",
      "      cpdef object __input_observatory  # input observatories\n",
      "      cpdef object __input_obsfreq   # input observation frequencies\n",
      "  \n",
      "      # TO DO: is cpdef required here?\n",
      "      cpdef jumpval, jumperr\n",
      "            ^\n",
      "  ------------------------------------------------------------\n",
      "  \n",
      "  libstempo/libstempo.pyx:653:10: Variables cannot be declared with 'cpdef'. Use 'cdef' instead.\n",
      "  Compiling libstempo/libstempo.pyx because it changed.\n",
      "  [1/1] Cythonizing libstempo/libstempo.pyx\n",
      "  Traceback (most recent call last):\n",
      "    File \"/Users/ved/miniconda3/envs/enterprise/lib/python3.7/site-packages/pip/_vendor/pep517/_in_process.py\", line 280, in <module>\n",
      "      main()\n",
      "    File \"/Users/ved/miniconda3/envs/enterprise/lib/python3.7/site-packages/pip/_vendor/pep517/_in_process.py\", line 263, in main\n",
      "      json_out['return_val'] = hook(**hook_input['kwargs'])\n",
      "    File \"/Users/ved/miniconda3/envs/enterprise/lib/python3.7/site-packages/pip/_vendor/pep517/_in_process.py\", line 114, in get_requires_for_build_wheel\n",
      "      return hook(config_settings)\n",
      "    File \"/private/var/folders/n0/6lc5_8690gz45p4xcxg6tcg40000gn/T/pip-build-env-hzuy2dm8/overlay/lib/python3.7/site-packages/setuptools/build_meta.py\", line 341, in get_requires_for_build_wheel\n",
      "      return self._get_build_requires(config_settings, requirements=['wheel'])\n",
      "    File \"/private/var/folders/n0/6lc5_8690gz45p4xcxg6tcg40000gn/T/pip-build-env-hzuy2dm8/overlay/lib/python3.7/site-packages/setuptools/build_meta.py\", line 323, in _get_build_requires\n",
      "      self.run_setup()\n",
      "    File \"/private/var/folders/n0/6lc5_8690gz45p4xcxg6tcg40000gn/T/pip-build-env-hzuy2dm8/overlay/lib/python3.7/site-packages/setuptools/build_meta.py\", line 338, in run_setup\n",
      "      exec(code, locals())\n",
      "    File \"<string>\", line 116, in <module>\n",
      "    File \"/private/var/folders/n0/6lc5_8690gz45p4xcxg6tcg40000gn/T/pip-build-env-hzuy2dm8/overlay/lib/python3.7/site-packages/Cython/Build/Dependencies.py\", line 1134, in cythonize\n",
      "      cythonize_one(*args)\n",
      "    File \"/private/var/folders/n0/6lc5_8690gz45p4xcxg6tcg40000gn/T/pip-build-env-hzuy2dm8/overlay/lib/python3.7/site-packages/Cython/Build/Dependencies.py\", line 1301, in cythonize_one\n",
      "      raise CompileError(None, pyx_file)\n",
      "  Cython.Compiler.Errors.CompileError: libstempo/libstempo.pyx\n",
      "  ----------------------------------------\u001b[0m\n",
      "\u001b[31mERROR: Command errored out with exit status 1: /Users/ved/miniconda3/envs/enterprise/bin/python3.7 /Users/ved/miniconda3/envs/enterprise/lib/python3.7/site-packages/pip/_vendor/pep517/_in_process.py get_requires_for_build_wheel /var/folders/n0/6lc5_8690gz45p4xcxg6tcg40000gn/T/tmpqbnvglhq Check the logs for full command output.\u001b[0m\n"
     ]
    },
    {
     "name": "stdout",
     "output_type": "stream",
     "text": [
      "\u001b[?25hCollecting git+https://github.com/nanograv/enterprise.git\n",
      "  Cloning https://github.com/nanograv/enterprise.git to /private/var/folders/n0/6lc5_8690gz45p4xcxg6tcg40000gn/T/pip-req-build-ueh0ibie\n",
      "  Installing build dependencies ... \u001b[?25ldone\n",
      "\u001b[?25h  Getting requirements to build wheel ... \u001b[?25ldone\n",
      "\u001b[?25h    Preparing wheel metadata ... \u001b[?25ldone\n",
      "\u001b[?25hRequirement already satisfied: numpy>=1.16.3 in /Users/ved/miniconda3/envs/enterprise/lib/python3.7/site-packages (from enterprise-pulsar==3.3.4.dev4+g5ef5ff4) (1.19.2)\n",
      "Requirement already satisfied: scipy>=1.2.0 in /Users/ved/miniconda3/envs/enterprise/lib/python3.7/site-packages (from enterprise-pulsar==3.3.4.dev4+g5ef5ff4) (1.6.0)\n",
      "Requirement already satisfied: healpy>=1.14.0 in /Users/ved/miniconda3/envs/enterprise/lib/python3.7/site-packages (from enterprise-pulsar==3.3.4.dev4+g5ef5ff4) (1.14.0)\n",
      "Requirement already satisfied: ephem>=3.7.6.0 in /Users/ved/miniconda3/envs/enterprise/lib/python3.7/site-packages (from enterprise-pulsar==3.3.4.dev4+g5ef5ff4) (3.7.7.1)\n",
      "Requirement already satisfied: six in /Users/ved/miniconda3/envs/enterprise/lib/python3.7/site-packages (from healpy>=1.14.0->enterprise-pulsar==3.3.4.dev4+g5ef5ff4) (1.15.0)\n",
      "Requirement already satisfied: astropy in /Users/ved/miniconda3/envs/enterprise/lib/python3.7/site-packages (from healpy>=1.14.0->enterprise-pulsar==3.3.4.dev4+g5ef5ff4) (4.2.1)\n",
      "Requirement already satisfied: matplotlib in /Users/ved/miniconda3/envs/enterprise/lib/python3.7/site-packages (from healpy>=1.14.0->enterprise-pulsar==3.3.4.dev4+g5ef5ff4) (3.3.2)\n",
      "Collecting libstempo>=2.4.4\n",
      "  Downloading libstempo-2.4.5.tar.gz (885 kB)\n",
      "\u001b[K     |████████████████████████████████| 885 kB 2.9 MB/s eta 0:00:01\n",
      "\u001b[?25h  Installing build dependencies ... \u001b[?25ldone\n",
      "\u001b[?25h  Getting requirements to build wheel ... \u001b[?25lerror\n",
      "\u001b[31m  ERROR: Command errored out with exit status 1:\n",
      "   command: /Users/ved/miniconda3/envs/enterprise/bin/python3.7 /Users/ved/miniconda3/envs/enterprise/lib/python3.7/site-packages/pip/_vendor/pep517/_in_process.py get_requires_for_build_wheel /var/folders/n0/6lc5_8690gz45p4xcxg6tcg40000gn/T/tmp8fdyt5fg\n",
      "       cwd: /private/var/folders/n0/6lc5_8690gz45p4xcxg6tcg40000gn/T/pip-install-w5djnh4v/libstempo_60f00e7b73974660afe7f6106e2b5634\n",
      "  Complete output (217 lines):\n",
      "  \n",
      "  Error compiling Cython file:\n",
      "  ------------------------------------------------------------\n",
      "  ...\n",
      "  cdef class tempopulsar:\n",
      "      \"\"\"tempopulsar(parfile, timfile=None, warnings=False, fixprefiterrors=True,\n",
      "                     dofit=False, maxobs=None, units=False, ephem=None, t2cmethod=None,\n",
      "                     toas=None, toaerrs=None, observatory=None, obsfreq=1400)\"\"\"\n",
      "  \n",
      "      cpdef public object parfile\n",
      "            ^\n",
      "  ------------------------------------------------------------\n",
      "  \n",
      "  libstempo/libstempo.pyx:630:10: Variables cannot be declared with 'cpdef'. Use 'cdef' instead.\n",
      "  \n",
      "  Error compiling Cython file:\n",
      "  ------------------------------------------------------------\n",
      "  ...\n",
      "      \"\"\"tempopulsar(parfile, timfile=None, warnings=False, fixprefiterrors=True,\n",
      "                     dofit=False, maxobs=None, units=False, ephem=None, t2cmethod=None,\n",
      "                     toas=None, toaerrs=None, observatory=None, obsfreq=1400)\"\"\"\n",
      "  \n",
      "      cpdef public object parfile\n",
      "      cpdef public object timfile\n",
      "            ^\n",
      "  ------------------------------------------------------------\n",
      "  \n",
      "  libstempo/libstempo.pyx:631:10: Variables cannot be declared with 'cpdef'. Use 'cdef' instead.\n",
      "  \n",
      "  Error compiling Cython file:\n",
      "  ------------------------------------------------------------\n",
      "  ...\n",
      "                     toas=None, toaerrs=None, observatory=None, obsfreq=1400)\"\"\"\n",
      "  \n",
      "      cpdef public object parfile\n",
      "      cpdef public object timfile\n",
      "  \n",
      "      cpdef public object units\n",
      "            ^\n",
      "  ------------------------------------------------------------\n",
      "  \n",
      "  libstempo/libstempo.pyx:633:10: Variables cannot be declared with 'cpdef'. Use 'cdef' instead.\n",
      "  \n",
      "  Error compiling Cython file:\n",
      "  ------------------------------------------------------------\n",
      "  ...\n",
      "      cpdef public object units\n",
      "  \n",
      "      cdef int npsr           # number of pulsars\n",
      "      cdef pulsar *psr        # array of pulsar structures\n",
      "  \n",
      "      cpdef object pardict    # dictionary of parameter proxies\n",
      "            ^\n",
      "  ------------------------------------------------------------\n",
      "  \n",
      "  libstempo/libstempo.pyx:638:10: Variables cannot be declared with 'cpdef'. Use 'cdef' instead.\n",
      "  \n",
      "  Error compiling Cython file:\n",
      "  ------------------------------------------------------------\n",
      "  ...\n",
      "      cdef int npsr           # number of pulsars\n",
      "      cdef pulsar *psr        # array of pulsar structures\n",
      "  \n",
      "      cpdef object pardict    # dictionary of parameter proxies\n",
      "  \n",
      "      cpdef int nobs_         # number of observations\n",
      "            ^\n",
      "  ------------------------------------------------------------\n",
      "  \n",
      "  libstempo/libstempo.pyx:640:10: Variables cannot be declared with 'cpdef'. Use 'cdef' instead.\n",
      "  \n",
      "  Error compiling Cython file:\n",
      "  ------------------------------------------------------------\n",
      "  ...\n",
      "  \n",
      "      cpdef object pardict    # dictionary of parameter proxies\n",
      "  \n",
      "      cpdef int nobs_         # number of observations\n",
      "  \n",
      "      cpdef object flagnames_ # a list of all flags that have values\n",
      "            ^\n",
      "  ------------------------------------------------------------\n",
      "  \n",
      "  libstempo/libstempo.pyx:642:10: Variables cannot be declared with 'cpdef'. Use 'cdef' instead.\n",
      "  \n",
      "  Error compiling Cython file:\n",
      "  ------------------------------------------------------------\n",
      "  ...\n",
      "      cpdef object pardict    # dictionary of parameter proxies\n",
      "  \n",
      "      cpdef int nobs_         # number of observations\n",
      "  \n",
      "      cpdef object flagnames_ # a list of all flags that have values\n",
      "      cpdef object flags_     # a dictionary of numpy arrays with flag values\n",
      "            ^\n",
      "  ------------------------------------------------------------\n",
      "  \n",
      "  libstempo/libstempo.pyx:643:10: Variables cannot be declared with 'cpdef'. Use 'cdef' instead.\n",
      "  \n",
      "  Error compiling Cython file:\n",
      "  ------------------------------------------------------------\n",
      "  ...\n",
      "      cpdef int nobs_         # number of observations\n",
      "  \n",
      "      cpdef object flagnames_ # a list of all flags that have values\n",
      "      cpdef object flags_     # a dictionary of numpy arrays with flag values\n",
      "  \n",
      "      cpdef public object noisemodel\n",
      "            ^\n",
      "  ------------------------------------------------------------\n",
      "  \n",
      "  libstempo/libstempo.pyx:645:10: Variables cannot be declared with 'cpdef'. Use 'cdef' instead.\n",
      "  \n",
      "  Error compiling Cython file:\n",
      "  ------------------------------------------------------------\n",
      "  ...\n",
      "      cpdef object flagnames_ # a list of all flags that have values\n",
      "      cpdef object flags_     # a dictionary of numpy arrays with flag values\n",
      "  \n",
      "      cpdef public object noisemodel\n",
      "  \n",
      "      cpdef object __input_toas  # input TOAs\n",
      "            ^\n",
      "  ------------------------------------------------------------\n",
      "  \n",
      "  libstempo/libstempo.pyx:647:10: Variables cannot be declared with 'cpdef'. Use 'cdef' instead.\n",
      "  \n",
      "  Error compiling Cython file:\n",
      "  ------------------------------------------------------------\n",
      "  ...\n",
      "      cpdef object flags_     # a dictionary of numpy arrays with flag values\n",
      "  \n",
      "      cpdef public object noisemodel\n",
      "  \n",
      "      cpdef object __input_toas  # input TOAs\n",
      "      cpdef object __input_toaerrs  # input TOA errors (us)\n",
      "            ^\n",
      "  ------------------------------------------------------------\n",
      "  \n",
      "  libstempo/libstempo.pyx:648:10: Variables cannot be declared with 'cpdef'. Use 'cdef' instead.\n",
      "  \n",
      "  Error compiling Cython file:\n",
      "  ------------------------------------------------------------\n",
      "  ...\n",
      "  \n",
      "      cpdef public object noisemodel\n",
      "  \n",
      "      cpdef object __input_toas  # input TOAs\n",
      "      cpdef object __input_toaerrs  # input TOA errors (us)\n",
      "      cpdef object __input_observatory  # input observatories\n",
      "            ^\n",
      "  ------------------------------------------------------------\n",
      "  \n",
      "  libstempo/libstempo.pyx:649:10: Variables cannot be declared with 'cpdef'. Use 'cdef' instead.\n",
      "  \n",
      "  Error compiling Cython file:\n",
      "  ------------------------------------------------------------\n",
      "  ...\n",
      "      cpdef public object noisemodel\n",
      "  \n",
      "      cpdef object __input_toas  # input TOAs\n",
      "      cpdef object __input_toaerrs  # input TOA errors (us)\n",
      "      cpdef object __input_observatory  # input observatories\n",
      "      cpdef object __input_obsfreq   # input observation frequencies\n",
      "            ^\n",
      "  ------------------------------------------------------------\n",
      "  \n",
      "  libstempo/libstempo.pyx:650:10: Variables cannot be declared with 'cpdef'. Use 'cdef' instead.\n",
      "  \n",
      "  Error compiling Cython file:\n",
      "  ------------------------------------------------------------\n",
      "  ...\n",
      "      cpdef object __input_toaerrs  # input TOA errors (us)\n",
      "      cpdef object __input_observatory  # input observatories\n",
      "      cpdef object __input_obsfreq   # input observation frequencies\n",
      "  \n",
      "      # TO DO: is cpdef required here?\n",
      "      cpdef jumpval, jumperr\n",
      "            ^\n",
      "  ------------------------------------------------------------\n",
      "  \n",
      "  libstempo/libstempo.pyx:653:10: Variables cannot be declared with 'cpdef'. Use 'cdef' instead.\n",
      "  \n",
      "  Error compiling Cython file:\n",
      "  ------------------------------------------------------------\n",
      "  ...\n",
      "      cpdef object __input_toaerrs  # input TOA errors (us)\n",
      "      cpdef object __input_observatory  # input observatories\n",
      "      cpdef object __input_obsfreq   # input observation frequencies\n",
      "  \n",
      "      # TO DO: is cpdef required here?\n",
      "      cpdef jumpval, jumperr\n",
      "            ^\n",
      "  ------------------------------------------------------------\n",
      "  \n",
      "  libstempo/libstempo.pyx:653:10: Variables cannot be declared with 'cpdef'. Use 'cdef' instead.\n",
      "  Compiling libstempo/libstempo.pyx because it changed.\n",
      "  [1/1] Cythonizing libstempo/libstempo.pyx\n",
      "  Traceback (most recent call last):\n",
      "    File \"/Users/ved/miniconda3/envs/enterprise/lib/python3.7/site-packages/pip/_vendor/pep517/_in_process.py\", line 280, in <module>\n",
      "      main()\n",
      "    File \"/Users/ved/miniconda3/envs/enterprise/lib/python3.7/site-packages/pip/_vendor/pep517/_in_process.py\", line 263, in main\n",
      "      json_out['return_val'] = hook(**hook_input['kwargs'])\n",
      "    File \"/Users/ved/miniconda3/envs/enterprise/lib/python3.7/site-packages/pip/_vendor/pep517/_in_process.py\", line 114, in get_requires_for_build_wheel\n",
      "      return hook(config_settings)\n",
      "    File \"/private/var/folders/n0/6lc5_8690gz45p4xcxg6tcg40000gn/T/pip-build-env-wvu6n3qg/overlay/lib/python3.7/site-packages/setuptools/build_meta.py\", line 341, in get_requires_for_build_wheel\n",
      "      return self._get_build_requires(config_settings, requirements=['wheel'])\n",
      "    File \"/private/var/folders/n0/6lc5_8690gz45p4xcxg6tcg40000gn/T/pip-build-env-wvu6n3qg/overlay/lib/python3.7/site-packages/setuptools/build_meta.py\", line 323, in _get_build_requires\n",
      "      self.run_setup()\n",
      "    File \"/private/var/folders/n0/6lc5_8690gz45p4xcxg6tcg40000gn/T/pip-build-env-wvu6n3qg/overlay/lib/python3.7/site-packages/setuptools/build_meta.py\", line 338, in run_setup\n",
      "      exec(code, locals())\n",
      "    File \"<string>\", line 116, in <module>\n",
      "    File \"/private/var/folders/n0/6lc5_8690gz45p4xcxg6tcg40000gn/T/pip-build-env-wvu6n3qg/overlay/lib/python3.7/site-packages/Cython/Build/Dependencies.py\", line 1134, in cythonize\n",
      "      cythonize_one(*args)\n",
      "    File \"/private/var/folders/n0/6lc5_8690gz45p4xcxg6tcg40000gn/T/pip-build-env-wvu6n3qg/overlay/lib/python3.7/site-packages/Cython/Build/Dependencies.py\", line 1301, in cythonize_one\n",
      "      raise CompileError(None, pyx_file)\n",
      "  Cython.Compiler.Errors.CompileError: libstempo/libstempo.pyx\n",
      "  ----------------------------------------\u001b[0m\n",
      "\u001b[31mERROR: Command errored out with exit status 1: /Users/ved/miniconda3/envs/enterprise/bin/python3.7 /Users/ved/miniconda3/envs/enterprise/lib/python3.7/site-packages/pip/_vendor/pep517/_in_process.py get_requires_for_build_wheel /var/folders/n0/6lc5_8690gz45p4xcxg6tcg40000gn/T/tmp8fdyt5fg Check the logs for full command output.\u001b[0m\n"
     ]
    },
    {
     "name": "stdout",
     "output_type": "stream",
     "text": [
      "\u001b[?25hCollecting git+https://github.com/nanograv/enterprise_extensions\n",
      "  Cloning https://github.com/nanograv/enterprise_extensions to /private/var/folders/n0/6lc5_8690gz45p4xcxg6tcg40000gn/T/pip-req-build-qbobt0fq\n",
      "  Installing build dependencies ... \u001b[?25ldone\n",
      "\u001b[?25h  Getting requirements to build wheel ... \u001b[?25ldone\n",
      "\u001b[?25h    Preparing wheel metadata ... \u001b[?25ldone\n",
      "\u001b[?25hRequirement already satisfied: scipy>=1.2.0 in /Users/ved/miniconda3/envs/enterprise/lib/python3.7/site-packages (from enterprise-extensions==2.4.3) (1.6.0)\n",
      "Requirement already satisfied: ephem>=3.7.6.0 in /Users/ved/miniconda3/envs/enterprise/lib/python3.7/site-packages (from enterprise-extensions==2.4.3) (3.7.7.1)\n",
      "Requirement already satisfied: numpy>=1.16.3 in /Users/ved/miniconda3/envs/enterprise/lib/python3.7/site-packages (from enterprise-extensions==2.4.3) (1.19.2)\n",
      "Requirement already satisfied: healpy>=1.14.0 in /Users/ved/miniconda3/envs/enterprise/lib/python3.7/site-packages (from enterprise-extensions==2.4.3) (1.14.0)\n",
      "Collecting enterprise-pulsar>=3.3.0\n",
      "  Downloading enterprise_pulsar-3.3.3-py2.py3-none-any.whl (9.3 MB)\n",
      "\u001b[K     |████████████████████████████████| 9.3 MB 2.5 MB/s eta 0:00:01\n",
      "\u001b[?25hRequirement already satisfied: astropy in /Users/ved/miniconda3/envs/enterprise/lib/python3.7/site-packages (from healpy>=1.14.0->enterprise-extensions==2.4.3) (4.2.1)\n",
      "Requirement already satisfied: six in /Users/ved/miniconda3/envs/enterprise/lib/python3.7/site-packages (from healpy>=1.14.0->enterprise-extensions==2.4.3) (1.15.0)\n",
      "Requirement already satisfied: matplotlib in /Users/ved/miniconda3/envs/enterprise/lib/python3.7/site-packages (from healpy>=1.14.0->enterprise-extensions==2.4.3) (3.3.2)\n",
      "Collecting libstempo>=2.4.0\n",
      "  Using cached libstempo-2.4.5.tar.gz (885 kB)\n",
      "  Installing build dependencies ... \u001b[?25ldone\n",
      "\u001b[?25h  Getting requirements to build wheel ... \u001b[?25lerror\n",
      "\u001b[31m  ERROR: Command errored out with exit status 1:\n",
      "   command: /Users/ved/miniconda3/envs/enterprise/bin/python3.7 /Users/ved/miniconda3/envs/enterprise/lib/python3.7/site-packages/pip/_vendor/pep517/_in_process.py get_requires_for_build_wheel /var/folders/n0/6lc5_8690gz45p4xcxg6tcg40000gn/T/tmpnif687gd\n",
      "       cwd: /private/var/folders/n0/6lc5_8690gz45p4xcxg6tcg40000gn/T/pip-install-n9o5ncir/libstempo_3fd5fae905e54cb79fdbc6ea26ad0fb3\n",
      "  Complete output (217 lines):\n",
      "  \n",
      "  Error compiling Cython file:\n",
      "  ------------------------------------------------------------\n",
      "  ...\n",
      "  cdef class tempopulsar:\n",
      "      \"\"\"tempopulsar(parfile, timfile=None, warnings=False, fixprefiterrors=True,\n",
      "                     dofit=False, maxobs=None, units=False, ephem=None, t2cmethod=None,\n",
      "                     toas=None, toaerrs=None, observatory=None, obsfreq=1400)\"\"\"\n",
      "  \n",
      "      cpdef public object parfile\n",
      "            ^\n",
      "  ------------------------------------------------------------\n",
      "  \n",
      "  libstempo/libstempo.pyx:630:10: Variables cannot be declared with 'cpdef'. Use 'cdef' instead.\n",
      "  \n",
      "  Error compiling Cython file:\n",
      "  ------------------------------------------------------------\n",
      "  ...\n",
      "      \"\"\"tempopulsar(parfile, timfile=None, warnings=False, fixprefiterrors=True,\n",
      "                     dofit=False, maxobs=None, units=False, ephem=None, t2cmethod=None,\n",
      "                     toas=None, toaerrs=None, observatory=None, obsfreq=1400)\"\"\"\n",
      "  \n",
      "      cpdef public object parfile\n",
      "      cpdef public object timfile\n",
      "            ^\n",
      "  ------------------------------------------------------------\n",
      "  \n",
      "  libstempo/libstempo.pyx:631:10: Variables cannot be declared with 'cpdef'. Use 'cdef' instead.\n",
      "  \n",
      "  Error compiling Cython file:\n",
      "  ------------------------------------------------------------\n",
      "  ...\n",
      "                     toas=None, toaerrs=None, observatory=None, obsfreq=1400)\"\"\"\n",
      "  \n",
      "      cpdef public object parfile\n",
      "      cpdef public object timfile\n",
      "  \n",
      "      cpdef public object units\n",
      "            ^\n",
      "  ------------------------------------------------------------\n",
      "  \n",
      "  libstempo/libstempo.pyx:633:10: Variables cannot be declared with 'cpdef'. Use 'cdef' instead.\n",
      "  \n",
      "  Error compiling Cython file:\n",
      "  ------------------------------------------------------------\n",
      "  ...\n",
      "      cpdef public object units\n",
      "  \n",
      "      cdef int npsr           # number of pulsars\n",
      "      cdef pulsar *psr        # array of pulsar structures\n",
      "  \n",
      "      cpdef object pardict    # dictionary of parameter proxies\n",
      "            ^\n",
      "  ------------------------------------------------------------\n",
      "  \n",
      "  libstempo/libstempo.pyx:638:10: Variables cannot be declared with 'cpdef'. Use 'cdef' instead.\n",
      "  \n",
      "  Error compiling Cython file:\n",
      "  ------------------------------------------------------------\n",
      "  ...\n",
      "      cdef int npsr           # number of pulsars\n",
      "      cdef pulsar *psr        # array of pulsar structures\n",
      "  \n",
      "      cpdef object pardict    # dictionary of parameter proxies\n",
      "  \n",
      "      cpdef int nobs_         # number of observations\n",
      "            ^\n",
      "  ------------------------------------------------------------\n",
      "  \n",
      "  libstempo/libstempo.pyx:640:10: Variables cannot be declared with 'cpdef'. Use 'cdef' instead.\n",
      "  \n",
      "  Error compiling Cython file:\n",
      "  ------------------------------------------------------------\n",
      "  ...\n",
      "  \n",
      "      cpdef object pardict    # dictionary of parameter proxies\n",
      "  \n",
      "      cpdef int nobs_         # number of observations\n",
      "  \n",
      "      cpdef object flagnames_ # a list of all flags that have values\n",
      "            ^\n",
      "  ------------------------------------------------------------\n",
      "  \n",
      "  libstempo/libstempo.pyx:642:10: Variables cannot be declared with 'cpdef'. Use 'cdef' instead.\n",
      "  \n",
      "  Error compiling Cython file:\n",
      "  ------------------------------------------------------------\n",
      "  ...\n",
      "      cpdef object pardict    # dictionary of parameter proxies\n",
      "  \n",
      "      cpdef int nobs_         # number of observations\n",
      "  \n",
      "      cpdef object flagnames_ # a list of all flags that have values\n",
      "      cpdef object flags_     # a dictionary of numpy arrays with flag values\n",
      "            ^\n",
      "  ------------------------------------------------------------\n",
      "  \n",
      "  libstempo/libstempo.pyx:643:10: Variables cannot be declared with 'cpdef'. Use 'cdef' instead.\n",
      "  \n",
      "  Error compiling Cython file:\n",
      "  ------------------------------------------------------------\n",
      "  ...\n",
      "      cpdef int nobs_         # number of observations\n",
      "  \n",
      "      cpdef object flagnames_ # a list of all flags that have values\n",
      "      cpdef object flags_     # a dictionary of numpy arrays with flag values\n",
      "  \n",
      "      cpdef public object noisemodel\n",
      "            ^\n",
      "  ------------------------------------------------------------\n",
      "  \n",
      "  libstempo/libstempo.pyx:645:10: Variables cannot be declared with 'cpdef'. Use 'cdef' instead.\n",
      "  \n",
      "  Error compiling Cython file:\n",
      "  ------------------------------------------------------------\n",
      "  ...\n",
      "      cpdef object flagnames_ # a list of all flags that have values\n",
      "      cpdef object flags_     # a dictionary of numpy arrays with flag values\n",
      "  \n",
      "      cpdef public object noisemodel\n",
      "  \n",
      "      cpdef object __input_toas  # input TOAs\n",
      "            ^\n",
      "  ------------------------------------------------------------\n",
      "  \n",
      "  libstempo/libstempo.pyx:647:10: Variables cannot be declared with 'cpdef'. Use 'cdef' instead.\n",
      "  \n",
      "  Error compiling Cython file:\n",
      "  ------------------------------------------------------------\n",
      "  ...\n",
      "      cpdef object flags_     # a dictionary of numpy arrays with flag values\n",
      "  \n",
      "      cpdef public object noisemodel\n",
      "  \n",
      "      cpdef object __input_toas  # input TOAs\n",
      "      cpdef object __input_toaerrs  # input TOA errors (us)\n",
      "            ^\n",
      "  ------------------------------------------------------------\n",
      "  \n",
      "  libstempo/libstempo.pyx:648:10: Variables cannot be declared with 'cpdef'. Use 'cdef' instead.\n",
      "  \n",
      "  Error compiling Cython file:\n",
      "  ------------------------------------------------------------\n",
      "  ...\n",
      "  \n",
      "      cpdef public object noisemodel\n",
      "  \n",
      "      cpdef object __input_toas  # input TOAs\n",
      "      cpdef object __input_toaerrs  # input TOA errors (us)\n",
      "      cpdef object __input_observatory  # input observatories\n",
      "            ^\n",
      "  ------------------------------------------------------------\n",
      "  \n",
      "  libstempo/libstempo.pyx:649:10: Variables cannot be declared with 'cpdef'. Use 'cdef' instead.\n",
      "  \n",
      "  Error compiling Cython file:\n",
      "  ------------------------------------------------------------\n",
      "  ...\n",
      "      cpdef public object noisemodel\n",
      "  \n",
      "      cpdef object __input_toas  # input TOAs\n",
      "      cpdef object __input_toaerrs  # input TOA errors (us)\n",
      "      cpdef object __input_observatory  # input observatories\n",
      "      cpdef object __input_obsfreq   # input observation frequencies\n",
      "            ^\n",
      "  ------------------------------------------------------------\n",
      "  \n",
      "  libstempo/libstempo.pyx:650:10: Variables cannot be declared with 'cpdef'. Use 'cdef' instead.\n",
      "  \n",
      "  Error compiling Cython file:\n",
      "  ------------------------------------------------------------\n",
      "  ...\n",
      "      cpdef object __input_toaerrs  # input TOA errors (us)\n",
      "      cpdef object __input_observatory  # input observatories\n",
      "      cpdef object __input_obsfreq   # input observation frequencies\n",
      "  \n",
      "      # TO DO: is cpdef required here?\n",
      "      cpdef jumpval, jumperr\n",
      "            ^\n",
      "  ------------------------------------------------------------\n",
      "  \n",
      "  libstempo/libstempo.pyx:653:10: Variables cannot be declared with 'cpdef'. Use 'cdef' instead.\n",
      "  \n",
      "  Error compiling Cython file:\n",
      "  ------------------------------------------------------------\n",
      "  ...\n",
      "      cpdef object __input_toaerrs  # input TOA errors (us)\n",
      "      cpdef object __input_observatory  # input observatories\n",
      "      cpdef object __input_obsfreq   # input observation frequencies\n",
      "  \n",
      "      # TO DO: is cpdef required here?\n",
      "      cpdef jumpval, jumperr\n",
      "            ^\n",
      "  ------------------------------------------------------------\n",
      "  \n",
      "  libstempo/libstempo.pyx:653:10: Variables cannot be declared with 'cpdef'. Use 'cdef' instead.\n",
      "  Compiling libstempo/libstempo.pyx because it changed.\n",
      "  [1/1] Cythonizing libstempo/libstempo.pyx\n",
      "  Traceback (most recent call last):\n",
      "    File \"/Users/ved/miniconda3/envs/enterprise/lib/python3.7/site-packages/pip/_vendor/pep517/_in_process.py\", line 280, in <module>\n",
      "      main()\n",
      "    File \"/Users/ved/miniconda3/envs/enterprise/lib/python3.7/site-packages/pip/_vendor/pep517/_in_process.py\", line 263, in main\n",
      "      json_out['return_val'] = hook(**hook_input['kwargs'])\n",
      "    File \"/Users/ved/miniconda3/envs/enterprise/lib/python3.7/site-packages/pip/_vendor/pep517/_in_process.py\", line 114, in get_requires_for_build_wheel\n",
      "      return hook(config_settings)\n",
      "    File \"/private/var/folders/n0/6lc5_8690gz45p4xcxg6tcg40000gn/T/pip-build-env-ig66oq30/overlay/lib/python3.7/site-packages/setuptools/build_meta.py\", line 341, in get_requires_for_build_wheel\n",
      "      return self._get_build_requires(config_settings, requirements=['wheel'])\n",
      "    File \"/private/var/folders/n0/6lc5_8690gz45p4xcxg6tcg40000gn/T/pip-build-env-ig66oq30/overlay/lib/python3.7/site-packages/setuptools/build_meta.py\", line 323, in _get_build_requires\n",
      "      self.run_setup()\n",
      "    File \"/private/var/folders/n0/6lc5_8690gz45p4xcxg6tcg40000gn/T/pip-build-env-ig66oq30/overlay/lib/python3.7/site-packages/setuptools/build_meta.py\", line 338, in run_setup\n",
      "      exec(code, locals())\n",
      "    File \"<string>\", line 116, in <module>\n",
      "    File \"/private/var/folders/n0/6lc5_8690gz45p4xcxg6tcg40000gn/T/pip-build-env-ig66oq30/overlay/lib/python3.7/site-packages/Cython/Build/Dependencies.py\", line 1134, in cythonize\n",
      "      cythonize_one(*args)\n",
      "    File \"/private/var/folders/n0/6lc5_8690gz45p4xcxg6tcg40000gn/T/pip-build-env-ig66oq30/overlay/lib/python3.7/site-packages/Cython/Build/Dependencies.py\", line 1301, in cythonize_one\n",
      "      raise CompileError(None, pyx_file)\n",
      "  Cython.Compiler.Errors.CompileError: libstempo/libstempo.pyx\n",
      "  ----------------------------------------\u001b[0m\n",
      "\u001b[31mERROR: Command errored out with exit status 1: /Users/ved/miniconda3/envs/enterprise/bin/python3.7 /Users/ved/miniconda3/envs/enterprise/lib/python3.7/site-packages/pip/_vendor/pep517/_in_process.py get_requires_for_build_wheel /var/folders/n0/6lc5_8690gz45p4xcxg6tcg40000gn/T/tmpnif687gd Check the logs for full command output.\u001b[0m\n"
     ]
    },
    {
     "name": "stdout",
     "output_type": "stream",
     "text": [
      "\u001b[?25hCollecting git+https://github.com/jellis18/PTMCMCSampler\n",
      "  Cloning https://github.com/jellis18/PTMCMCSampler to /private/var/folders/n0/6lc5_8690gz45p4xcxg6tcg40000gn/T/pip-req-build-fi2sj0en\n",
      "  Installing build dependencies ... \u001b[?25ldone\n",
      "\u001b[?25h  Getting requirements to build wheel ... \u001b[?25ldone\n",
      "\u001b[?25h    Preparing wheel metadata ... \u001b[?25ldone\n",
      "\u001b[?25hRequirement already satisfied: scipy>=1.2.0 in /Users/ved/miniconda3/envs/enterprise/lib/python3.7/site-packages (from ptmcmcsampler==2.1.2.dev3+g3d7c198) (1.6.0)\n",
      "Requirement already satisfied: numpy>=1.16.3 in /Users/ved/miniconda3/envs/enterprise/lib/python3.7/site-packages (from ptmcmcsampler==2.1.2.dev3+g3d7c198) (1.19.2)\n",
      "Building wheels for collected packages: ptmcmcsampler\n",
      "  Building wheel for ptmcmcsampler (PEP 517) ... \u001b[?25ldone\n",
      "\u001b[?25h  Created wheel for ptmcmcsampler: filename=ptmcmcsampler-2.1.2.dev3+g3d7c198-py3-none-any.whl size=20354 sha256=a824d617471417319791b829e04d08a71909484745647deaebed5837b5d98dcd\n",
      "  Stored in directory: /private/var/folders/n0/6lc5_8690gz45p4xcxg6tcg40000gn/T/pip-ephem-wheel-cache-1j2d7u0p/wheels/88/5b/23/a0eebf47d852c7b56caac1b7ed5e8b98de724e52e60b72b8af\n",
      "Successfully built ptmcmcsampler\n",
      "Installing collected packages: ptmcmcsampler\n",
      "Successfully installed ptmcmcsampler-2.1.2.dev3+g3d7c198\n"
     ]
    }
   ],
   "source": [
    "!pip install git+https://github.com/nanograv/PINT.git\n",
    "!pip install git+https://github.com/vallis/libstempo.git\n",
    "!pip install git+https://github.com/nanograv/enterprise.git\n",
    "!pip install git+https://github.com/nanograv/enterprise_extensions\n",
    "!pip install git+https://github.com/jellis18/PTMCMCSampler"
   ]
  },
  {
   "cell_type": "markdown",
   "metadata": {
    "id": "HBQZx_AXRt95"
   },
   "source": [
    "# Run Once"
   ]
  },
  {
   "cell_type": "code",
   "execution_count": null,
   "metadata": {
    "colab": {
     "base_uri": "https://localhost:8080/"
    },
    "id": "0AzXqqMmQrzJ",
    "outputId": "924325af-5e51-4112-db98-2882761944bd"
   },
   "outputs": [],
   "source": [
    "!pip install pyephem\n",
    "!pip install git+https://github.com/dfm/acor.git\n",
    "!pip install astropy\n",
    "!pip install jplephem\n",
    "!pip install Cython\n",
    "!pip install corner\n",
    "!apt-get install libtool\n",
    "!apt-get install autoconf\n",
    "!apt install libsuitesparse-dev\n",
    "!pip install scikit-sparse\n",
    "!pip install git+https://github.com/nanograv/PINT.git\n",
    "!pip install git+https://github.com/vallis/libstempo.git\n",
    "!pip install git+https://github.com/nanograv/enterprise.git\n",
    "!pip install git+https://github.com/nanograv/enterprise_extensions\n",
    "!pip install git+https://github.com/jellis18/PTMCMCSampler\n",
    "!pip install mpi4py\n",
    "!pip install git+https://github.com/nanograv/enterprise_extensions.git\n",
    "!pip install healpy"
   ]
  },
  {
   "cell_type": "code",
   "execution_count": null,
   "metadata": {
    "colab": {
     "base_uri": "https://localhost:8080/"
    },
    "id": "2wtrHbtUQxoY",
    "outputId": "9a2a2bb3-6a4d-4127-d3ba-11f286592e35"
   },
   "outputs": [],
   "source": [
    "!git clone https://github.com/AaronDJohnson/gwb_pta_tutorial.git"
   ]
  },
  {
   "cell_type": "markdown",
   "metadata": {
    "id": "NyOTZcCD7IFb"
   },
   "source": [
    "# Using enterprise to analyze PTA data\n",
    "\n",
    "In this notebook you will learn:\n",
    "* How to use `enterprise` to interact with PTA data,\n",
    "* How to search in PTA data for GWs using multiple pulsars,\n",
    "* How to compute Bayes factors using `Hypermodel`,\n",
    "* How to post-process your results.\n",
    "\n",
    "If you are interested in working through this notebook, but do not want to install the software, we have prepared a related Google Colab notebook:\n",
    "\n",
    "By copying this notebook, you can install the software to your own Google Colab account and run the software without installation on your computer.\n",
    "\n",
    "**Warning**: Sampling in this notebook is computationally intensive. It will take hours to sample properly. We have tried to cut it down somewhat while also leaving robust results that are indicative of what is actually done with a real analysis."
   ]
  },
  {
   "cell_type": "markdown",
   "metadata": {
    "id": "iBtbaBVs7IFe"
   },
   "source": [
    "# Load packages and modules"
   ]
  },
  {
   "cell_type": "code",
   "execution_count": null,
   "metadata": {
    "ExecuteTime": {
     "end_time": "2018-05-15T21:48:39.150382Z",
     "start_time": "2018-05-15T21:48:39.094542Z"
    },
    "id": "APkDWwtH7IFf"
   },
   "outputs": [],
   "source": [
    "from __future__ import division\n",
    "\n",
    "%matplotlib inline\n",
    "%config InlineBackend.figure_format = 'retina'\n",
    "%load_ext autoreload\n",
    "%autoreload 2\n",
    "\n",
    "import os, glob, json, pickle\n",
    "import matplotlib.pyplot as plt\n",
    "import numpy as np\n",
    "import scipy.linalg as sl\n",
    "\n",
    "import enterprise\n",
    "from enterprise.pulsar import Pulsar\n",
    "import enterprise.signals.parameter as parameter\n",
    "from enterprise.signals import utils\n",
    "from enterprise.signals import signal_base\n",
    "from enterprise.signals import selections\n",
    "from enterprise.signals.selections import Selection\n",
    "from enterprise.signals import white_signals\n",
    "from enterprise.signals import gp_signals\n",
    "from enterprise.signals import deterministic_signals\n",
    "import enterprise.constants as const\n",
    "\n",
    "import corner\n",
    "import multiprocessing\n",
    "from PTMCMCSampler.PTMCMCSampler import PTSampler as ptmcmc"
   ]
  },
  {
   "cell_type": "markdown",
   "metadata": {
    "id": "vmox6ofH7IFg"
   },
   "source": [
    "## Get par, tim, and noise files"
   ]
  },
  {
   "cell_type": "code",
   "execution_count": null,
   "metadata": {
    "ExecuteTime": {
     "end_time": "2018-05-15T21:48:42.658570Z",
     "start_time": "2018-05-15T21:48:42.631742Z"
    },
    "id": "OjyGg8PS7IFg"
   },
   "outputs": [],
   "source": [
    "psrlist = None # define a list of pulsar name strings that can be used to filter."
   ]
  },
  {
   "cell_type": "code",
   "execution_count": null,
   "metadata": {
    "colab": {
     "base_uri": "https://localhost:8080/"
    },
    "id": "D7e2St137IFg",
    "outputId": "c3f2900c-a912-44db-b864-357c5a9fc9d7"
   },
   "outputs": [],
   "source": [
    "# set the data directory\n",
    "datadir = 'gwb_pta_tutorial/data'\n",
    "if not os.path.isdir(datadir):\n",
    "    datadir = '../data'\n",
    "print(datadir)"
   ]
  },
  {
   "cell_type": "code",
   "execution_count": null,
   "metadata": {
    "ExecuteTime": {
     "end_time": "2018-05-15T21:48:43.043752Z",
     "start_time": "2018-05-15T21:48:43.007076Z"
    },
    "id": "y-F-OebE7IFh"
   },
   "outputs": [],
   "source": [
    "# for the entire pta\n",
    "parfiles = sorted(glob.glob(datadir + '/par/*par'))\n",
    "timfiles = sorted(glob.glob(datadir + '/tim/*tim'))\n",
    "\n",
    "# filter\n",
    "if psrlist is not None:\n",
    "    parfiles = [x for x in parfiles if x.split('/')[-1].split('.')[0] in psrlist]\n",
    "    timfiles = [x for x in timfiles if x.split('/')[-1].split('.')[0] in psrlist]\n",
    "\n",
    "# Make sure you use the tempo2 parfile for J1713+0747!!\n",
    "# ...filtering out the tempo parfile...\n",
    "parfiles = [x for x in parfiles if 'J1713+0747_NANOGrav_12yv3.gls.par' not in x]"
   ]
  },
  {
   "cell_type": "markdown",
   "metadata": {
    "id": "DmXF9ivG7IFh"
   },
   "source": [
    "## Load into Pulsar class list\n",
    "\n",
    "* The `enterprise` Pulsar class uses `libstempo` to read in `par` and `tim` files, then stores all pulsar data into a `Pulsar` object. This object contains all data and meta-data needed for the ensuing pulsar and PTA analysis. You no longer to reference the `par` and `tim` files after this cell.\n",
    "\n",
    "* Note below that you can explicitly declare which version of the JPL solar-system ephemeris model that will be used to compute the Roemer delay between the geocenter and the barycenter (e.g. `DE438`). Otherwise the default values will be taken from the `par` files. Explicitly declaring the version here is good practice.\n",
    "\n",
    "* You can also explicitly set the clock file to a version of `BIPM`, e.g. `BIPM(2018)`. This is less important, and you can let the code take the value from the `par` file.\n",
    "\n",
    "* When you execute the following cell, you will get warnings like `WARNING: Could not find pulsar distance for PSR ...`. Don't worry! This is expected, and fine. Not all pulsars have well constrained distances, and will be set to `1 kpc` with a `20%` uncertainty."
   ]
  },
  {
   "cell_type": "markdown",
   "metadata": {
    "id": "E3TT5-oz7IFh"
   },
   "source": [
    "## Read par and tim files into `enterprise` `Pulsar` objects\n",
    "\n",
    "Note: This cell will take a few minutes to run."
   ]
  },
  {
   "cell_type": "code",
   "execution_count": null,
   "metadata": {
    "ExecuteTime": {
     "end_time": "2018-05-15T21:49:00.790991Z",
     "start_time": "2018-05-15T21:48:53.703630Z"
    },
    "id": "wBJ5GZSy7IFh",
    "outputId": "b56ccd4f-18cb-45da-dc16-3207f3513bc0"
   },
   "outputs": [],
   "source": [
    "psrs = []\n",
    "ephemeris = 'DE438'\n",
    "for p, t in zip(parfiles, timfiles):\n",
    "    psr = Pulsar(p, t, ephem=ephemeris)\n",
    "    psrs.append(psr)"
   ]
  },
  {
   "cell_type": "markdown",
   "metadata": {
    "id": "FzkwrrNX7IFi"
   },
   "source": [
    "* We can read-in some previously computed noise properties from single-pulsar white noise analyses. These are things like `EFAC`, `EQUAD`, and (for `NANOGrav`) `ECORR`.\n",
    "\n",
    "* In practice, we set these white-noise properties as fixed in the low-frequency noise / GW searches.\n",
    "\n",
    "* See `singlepulsar_whitenoise_analysis.ipynb` to see the methods used to find these values.\n",
    "\n",
    "* The noise properties have been stored as `json` files, and are read in to a big parameter dictionary."
   ]
  },
  {
   "cell_type": "code",
   "execution_count": null,
   "metadata": {
    "id": "zvIgEEqb7IFi"
   },
   "outputs": [],
   "source": [
    "## Get parameter noise dictionary\n",
    "noise_ng12 = datadir + '/channelized_12p5yr_v3_full_noisedict.json'\n",
    "\n",
    "params = {}\n",
    "with open(noise_ng12, 'r') as fp:\n",
    "    params.update(json.load(fp))"
   ]
  },
  {
   "cell_type": "markdown",
   "metadata": {
    "id": "xYwHh0nt7IFi"
   },
   "source": [
    "## Set up `enterprise` model for PTA GWB search (*verbose version*)\n",
    "* The requirement for a pulsar to be used in the NANOGrav dataset is that the pulsar has at least three years of data. For the sake of saving some time, we will increase that limit to 6 years (cutting the number of pulsars in half). This will give us a good idea of what the process of analyzing a PTA looks like, while also reducing the computation time and giving similar results."
   ]
  },
  {
   "cell_type": "code",
   "execution_count": null,
   "metadata": {
    "id": "pgYr961i7IFi",
    "outputId": "d18fbf6a-fe3a-4d2d-abfa-63c3180f39d1"
   },
   "outputs": [],
   "source": [
    "# OMIT THIS CELL TO USE THE FULL PTA -- THIS WILL TAKE MUCH LONGER\n",
    "# TO SAMPLE THAN WITH THIS CELL\n",
    "\n",
    "YR_SEC = 525600 * 60  # number of seconds in a year\n",
    "YRS = 6  # number of years to cutoff the data at\n",
    "\n",
    "# cut pulsars < X years:\n",
    "new_psrs = []\n",
    "for p in psrs:\n",
    "    delta_t = p.toas.max() - p.toas.min()\n",
    "    delta_t_yrs = delta_t / YR_SEC\n",
    "    if delta_t_yrs > YRS:\n",
    "        new_psrs.append(p)\n",
    "        # print(p.name)\n",
    "psrs = new_psrs\n",
    "print(len(psrs), 'pulsars')"
   ]
  },
  {
   "cell_type": "code",
   "execution_count": null,
   "metadata": {
    "ExecuteTime": {
     "end_time": "2018-05-15T21:49:45.238037Z",
     "start_time": "2018-05-15T21:49:45.209705Z"
    },
    "id": "D4cNJiKT7IFj"
   },
   "outputs": [],
   "source": [
    "# find the maximum time span to set GW frequency sampling\n",
    "tmin = [p.toas.min() for p in psrs]\n",
    "tmax = [p.toas.max() for p in psrs]\n",
    "Tspan = np.max(tmax) - np.min(tmin)"
   ]
  },
  {
   "cell_type": "markdown",
   "metadata": {
    "id": "vcAnxLrB7IFj"
   },
   "source": [
    "* Usually, in a full PTA analysis we fix all of the white noise (EFAC, EQUAD, and ECORR) parameters to the values obtained from the noise files. This is done by using `Constant` parameters. In this case we do not specify a default value for all instances of that parameter but instead will set them, based on their initialized pulsar and backend specific name, later via the `set_default_params` method of `PTA`.\n",
    "\n",
    "* We use the `Selection` object to define which noise parameters are assigned to which chunks of TOAs. This selection is based on unique combination of backends and receivers."
   ]
  },
  {
   "cell_type": "code",
   "execution_count": null,
   "metadata": {
    "ExecuteTime": {
     "end_time": "2018-05-15T21:49:48.496954Z",
     "start_time": "2018-05-15T21:49:48.470085Z"
    },
    "id": "YqMDivzg7IFj"
   },
   "outputs": [],
   "source": [
    "# define selection by observing backend\n",
    "selection = selections.Selection(selections.by_backend)"
   ]
  },
  {
   "cell_type": "markdown",
   "metadata": {
    "ExecuteTime": {
     "end_time": "2018-05-11T16:39:50.133639Z",
     "start_time": "2018-05-11T16:39:50.102972Z"
    },
    "id": "pFuXhsy_7IFj"
   },
   "source": [
    "### Parameters\n",
    "* Another feature to notice is that **for upper limits** we do not use a `Uniform` prior on the log of the red-noise or GWB amplitude. Instead we use a `LinearExp` prior (short for linear-exponent prior), that is a prior of the form $p(x)\\propto 10^x$. This is how we can still use the log of the parameter to sample but place a uniform prior on the parameter itself. We do this for both the red noise and GWB amplitude parameters. **For detection analyses** we still use a `Uniform` prior on the log of the GWB amplitude.\n",
    "\n",
    "* In order to save on computing time we do not include spatial correlations here. Instead we model the GWB as a common red process across all pulsars. In `enterprise` we can do this with a simple trick. We pre-initialize the parameters before passing them to the `Signal` model. In this way the *same* parameter instance is used for all pulsars. Lastly, we fix the spectral index of the GWB to be 13/3 (4.33) using the `Constant` parameter."
   ]
  },
  {
   "cell_type": "code",
   "execution_count": null,
   "metadata": {
    "ExecuteTime": {
     "end_time": "2018-05-15T21:49:50.042751Z",
     "start_time": "2018-05-15T21:49:50.005677Z"
    },
    "id": "4K7wMPAo7IFj"
   },
   "outputs": [],
   "source": [
    "# white noise parameters\n",
    "efac = parameter.Constant()\n",
    "equad = parameter.Constant()\n",
    "ecorr = parameter.Constant() # we'll set these later with the params dictionary\n",
    "\n",
    "# red noise parameters\n",
    "log10_A = parameter.Uniform(-20, -11)\n",
    "gamma = parameter.Uniform(0, 7)\n",
    "\n",
    "# dm-variation parameters\n",
    "log10_A_dm = parameter.Uniform(-20, -11)\n",
    "gamma_dm = parameter.Uniform(0, 7)\n",
    "\n",
    "# GW parameters (initialize with names here to use parameters in common across pulsars)\n",
    "log10_A_gw = parameter.Uniform(-18,-14)('log10_A_gw')\n",
    "gamma_gw = parameter.Constant(4.33)('gamma_gw')"
   ]
  },
  {
   "cell_type": "markdown",
   "metadata": {
    "ExecuteTime": {
     "end_time": "2018-05-11T16:44:44.713491Z",
     "start_time": "2018-05-11T16:44:44.685587Z"
    },
    "id": "frI1DHhU7IFj"
   },
   "source": [
    "### Signals"
   ]
  },
  {
   "cell_type": "code",
   "execution_count": null,
   "metadata": {
    "ExecuteTime": {
     "end_time": "2018-05-15T21:49:51.557605Z",
     "start_time": "2018-05-15T21:49:51.499006Z"
    },
    "id": "V6ph9NlW7IFj"
   },
   "outputs": [],
   "source": [
    "# white noise\n",
    "ef = white_signals.MeasurementNoise(efac=efac, selection=selection)\n",
    "eq = white_signals.EquadNoise(log10_equad=equad, selection=selection)\n",
    "ec = white_signals.EcorrKernelNoise(log10_ecorr=ecorr, selection=selection)\n",
    "\n",
    "# red noise (powerlaw with 30 frequencies)\n",
    "pl = utils.powerlaw(log10_A=log10_A, gamma=gamma)\n",
    "rn = gp_signals.FourierBasisGP(spectrum=pl, components=30, Tspan=Tspan)\n",
    "\n",
    "# gwb (no spatial correlations)\n",
    "cpl = utils.powerlaw(log10_A=log10_A_gw, gamma=gamma_gw)\n",
    "gw = gp_signals.FourierBasisGP(spectrum=cpl, components=30, Tspan=Tspan, name='gw')\n",
    "\n",
    "# for spatial correlations you can do...\n",
    "# spatial correlations are covered in the hypermodel context later\n",
    "# orf = utils.hd_orf()\n",
    "# crn = gp_signals.FourierBasisCommonGP(cpl, orf,\n",
    "#                                       components=30, Tspan=Tspan, name='gw')\n",
    "\n",
    "# to add solar system ephemeris modeling...\n",
    "bayesephem=False\n",
    "if bayesephem:\n",
    "    eph = deterministic_signals.PhysicalEphemerisSignal(use_epoch_toas=True)\n",
    "\n",
    "# timing model\n",
    "tm = gp_signals.TimingModel(use_svd=True)"
   ]
  },
  {
   "cell_type": "code",
   "execution_count": null,
   "metadata": {
    "ExecuteTime": {
     "end_time": "2018-05-15T21:49:52.662732Z",
     "start_time": "2018-05-15T21:49:52.638142Z"
    },
    "id": "-1YttSqI7IFj"
   },
   "outputs": [],
   "source": [
    "# full model\n",
    "if bayesephem:\n",
    "    s = ef + eq + ec + rn + tm + eph + gw\n",
    "else:\n",
    "    s = ef + eq + ec + rn + tm + gw"
   ]
  },
  {
   "cell_type": "code",
   "execution_count": null,
   "metadata": {
    "ExecuteTime": {
     "end_time": "2018-05-15T21:49:55.063952Z",
     "start_time": "2018-05-15T21:49:53.602147Z"
    },
    "id": "QOSqd2HH7IFj"
   },
   "outputs": [],
   "source": [
    "# intialize PTA (this cell will take a minute or two to run)\n",
    "models = []\n",
    "\n",
    "for p in psrs:\n",
    "    models.append(s(p))\n",
    "\n",
    "pta = signal_base.PTA(models)"
   ]
  },
  {
   "cell_type": "code",
   "execution_count": null,
   "metadata": {
    "ExecuteTime": {
     "end_time": "2018-05-15T21:50:00.319108Z",
     "start_time": "2018-05-15T21:50:00.244934Z"
    },
    "id": "IyFt9kmA7IFj",
    "outputId": "459f949c-04d0-4e1a-a0b1-52be5c0e92d2",
    "scrolled": true,
    "tags": [
     "outputPrepend"
    ]
   },
   "outputs": [],
   "source": [
    "# set white noise parameters with dictionary\n",
    "pta.set_default_params(params)"
   ]
  },
  {
   "cell_type": "code",
   "execution_count": null,
   "metadata": {
    "ExecuteTime": {
     "end_time": "2018-05-15T21:50:03.822379Z",
     "start_time": "2018-05-15T21:50:03.788843Z"
    },
    "id": "tv8cRwOB7IFk"
   },
   "outputs": [],
   "source": [
    "# set initial parameters drawn from prior\n",
    "x0 = np.hstack([p.sample() for p in pta.params])\n",
    "ndim = len(x0)"
   ]
  },
  {
   "cell_type": "code",
   "execution_count": null,
   "metadata": {
    "ExecuteTime": {
     "end_time": "2018-05-15T21:50:06.902347Z",
     "start_time": "2018-05-15T21:50:06.866018Z"
    },
    "id": "hspTkiPX7IFk"
   },
   "outputs": [],
   "source": [
    "# set up the sampler:\n",
    "# initial jump covariance matrix\n",
    "cov = np.diag(np.ones(ndim) * 0.01**2)\n",
    "outDir = '../chains_pta_gwb'\n",
    "\n",
    "sampler = ptmcmc(ndim, pta.get_lnlikelihood, pta.get_lnprior, cov,\n",
    "                 outDir=outDir, resume=False)"
   ]
  },
  {
   "cell_type": "markdown",
   "metadata": {
    "id": "TGFUwnhh7IFk"
   },
   "source": [
    "### Sample!\n",
    "\n",
    "This should take about an hour to sample. Note that a normal analysis would include from 1e6 to 5e6 samples. Here we would like it to finish a little faster, so we only look for 1.5e5 samples for about half the number of pulsars in the NANOGrav dataset. This should be enough to get an idea of what the posterior looks like."
   ]
  },
  {
   "cell_type": "code",
   "execution_count": null,
   "metadata": {
    "ExecuteTime": {
     "end_time": "2018-05-15T21:51:39.157421Z",
     "start_time": "2018-05-15T21:50:07.962002Z"
    },
    "id": "YpcS14W_7IFk",
    "outputId": "083ff43a-3fb1-481b-e848-7236ee52ea12"
   },
   "outputs": [],
   "source": [
    "# sampler for N steps\n",
    "N = int(1.5e5)  # normally, we would use 5e6 samples (this will save time)\n",
    "x0 = np.hstack([p.sample() for p in pta.params])\n",
    "sampler.sample(x0, N, SCAMweight=30, AMweight=15, DEweight=50, )"
   ]
  },
  {
   "cell_type": "markdown",
   "metadata": {
    "id": "UjyQ0itD7IFk"
   },
   "source": [
    "## Plot output"
   ]
  },
  {
   "cell_type": "code",
   "execution_count": null,
   "metadata": {
    "ExecuteTime": {
     "end_time": "2018-05-15T21:51:44.119807Z",
     "start_time": "2018-05-15T21:51:44.060350Z"
    },
    "id": "leKiiXiQ7IFk"
   },
   "outputs": [],
   "source": [
    "chain = np.loadtxt(os.path.join(outDir, 'chain_1.txt'))\n",
    "burn = int(0.25 * chain.shape[0])"
   ]
  },
  {
   "cell_type": "code",
   "execution_count": null,
   "metadata": {
    "id": "h08gFckw7IFk"
   },
   "outputs": [],
   "source": [
    "ind = list(pta.param_names).index('log10_A_gw')"
   ]
  },
  {
   "cell_type": "code",
   "execution_count": null,
   "metadata": {
    "id": "K3CfwekS7IFl",
    "outputId": "dbd1db7a-25e0-4f38-d80a-d6a675ea9db3"
   },
   "outputs": [],
   "source": [
    "# Make trace-plot to diagnose sampling\n",
    "plt.plot(chain[burn:, ind])"
   ]
  },
  {
   "cell_type": "code",
   "execution_count": null,
   "metadata": {
    "ExecuteTime": {
     "end_time": "2018-05-15T21:51:46.102261Z",
     "start_time": "2018-05-15T21:51:45.927388Z"
    },
    "id": "oATpGb7L7IFm",
    "outputId": "d1cf2db4-025a-436d-a702-e9ebaca5ee2a"
   },
   "outputs": [],
   "source": [
    "# Plot a histogram of the marginalized posterior distribution\n",
    "plt.hist(chain[burn:,ind], 100, histtype='stepfilled',\n",
    "         lw=2, color='C0', alpha=0.5)\n",
    "plt.xlabel('log10_A_gw')\n",
    "plt.ylabel('PDF')"
   ]
  },
  {
   "cell_type": "code",
   "execution_count": null,
   "metadata": {
    "id": "DIblskIK7IFm",
    "outputId": "d27a0e1e-885a-45ff-92a9-179cdc99451a"
   },
   "outputs": [],
   "source": [
    "hist = np.histogram(chain[burn:, pta.param_names.index('log10_A_gw')],\n",
    "                          bins=70,\n",
    "                          density=False)\n",
    "max_ind = np.argmax(hist[0])\n",
    "print('our_max =', hist[1][max_ind])  # from our computation"
   ]
  },
  {
   "cell_type": "markdown",
   "metadata": {
    "id": "c95fP1I67IFm"
   },
   "source": [
    "## Discussion\n",
    "\n",
    "* The posterior shows that there is a signal in the data. We can see this by examining the left side of the plot. If there were no detected signal here, the posterior would have a tail extending to the left as far as our prior extends (returning that part of the prior).\n",
    "* `12p5yr_maxlike.json` shows `gw_log10_A` = -14.78361797461833 from the full 12.5 year analysis\n",
    "* Our maximum is close at `gw_log10_A` = -14.509737862559803\n",
    "* The important differences here are that we have fewer samples **AND** fewer pulsars that the full 12.5 year analysis."
   ]
  },
  {
   "cell_type": "markdown",
   "metadata": {
    "id": "xocVyjYj7IFm"
   },
   "source": [
    "## Now, the easy way to do all of this...\n",
    "\n",
    "* Many of the steps above have been consolidated into convenient functions inside the `enterprise_extensions` package. In this section, we will show how to use these covenient functions."
   ]
  },
  {
   "cell_type": "code",
   "execution_count": null,
   "metadata": {
    "ExecuteTime": {
     "end_time": "2018-05-15T21:53:11.676320Z",
     "start_time": "2018-05-15T21:53:11.629096Z"
    },
    "id": "_njZfHrY7IFm"
   },
   "outputs": [],
   "source": [
    "import enterprise_extensions\n",
    "from enterprise_extensions import models, model_utils, hypermodel"
   ]
  },
  {
   "cell_type": "code",
   "execution_count": null,
   "metadata": {
    "ExecuteTime": {
     "end_time": "2018-05-15T21:56:18.738032Z",
     "start_time": "2018-05-15T21:56:17.309346Z"
    },
    "id": "kIYegvVF7IFm",
    "outputId": "f0dd872c-dbb8-4523-e0c1-1faa5d6cef75",
    "tags": [
     "outputPrepend"
    ]
   },
   "outputs": [],
   "source": [
    "# this sets up the pta model (everything we did above) all in one cell\n",
    "# model 2a includes:\n",
    "#   fixed white noise parameters based on noisedict\n",
    "#   common red noise signal (no correlation function) with 30 sampling frequencies\n",
    "#   linear timing model\n",
    "pta = models.model_2a(psrs, psd='powerlaw',\n",
    "                      noisedict=params, components=30,\n",
    "                      gamma_common=13/3)"
   ]
  },
  {
   "cell_type": "code",
   "execution_count": null,
   "metadata": {
    "ExecuteTime": {
     "end_time": "2018-05-15T21:56:20.663093Z",
     "start_time": "2018-05-15T21:56:20.632086Z"
    },
    "id": "b8gWbj4x7IFn"
   },
   "outputs": [],
   "source": [
    "# Setup an instance of a HyperModel.\n",
    "# This doesn't mean we are doing model selection (yet!), but the\n",
    "# hypermodel module gives access to some nifty sampling schemes.\n",
    "super_model = hypermodel.HyperModel({0: pta})"
   ]
  },
  {
   "cell_type": "code",
   "execution_count": null,
   "metadata": {
    "ExecuteTime": {
     "end_time": "2018-05-15T21:56:20.823333Z",
     "start_time": "2018-05-15T21:56:20.790108Z"
    },
    "id": "FIC7NRBf7IFn",
    "outputId": "39eb0f3a-47b8-4f25-db51-3d5ad8853de2"
   },
   "outputs": [],
   "source": [
    "outDir = '../chains_pta_ext_gwb'\n",
    "sampler = super_model.setup_sampler(resume=False, outdir=outDir, sample_nmodel=False)"
   ]
  },
  {
   "cell_type": "code",
   "execution_count": null,
   "metadata": {
    "ExecuteTime": {
     "end_time": "2018-05-15T21:56:21.506309Z",
     "start_time": "2018-05-15T21:56:21.474529Z"
    },
    "id": "CIIJPp0T7IFn"
   },
   "outputs": [],
   "source": [
    "# sampler for N steps\n",
    "N = int(1.5e5)  # normally this would be 5e6, but this saves time\n",
    "x0 = super_model.initial_sample()"
   ]
  },
  {
   "cell_type": "code",
   "execution_count": null,
   "metadata": {
    "ExecuteTime": {
     "end_time": "2018-05-15T21:58:54.315884Z",
     "start_time": "2018-05-15T21:56:25.820406Z"
    },
    "id": "5kKvVjl27IFn",
    "outputId": "2d52b2a0-b175-4b49-a862-57ac6c841ffc"
   },
   "outputs": [],
   "source": [
    "# sample: this should take about an hour\n",
    "sampler.sample(x0, N, SCAMweight=30, AMweight=15, DEweight=50, )"
   ]
  },
  {
   "cell_type": "code",
   "execution_count": null,
   "metadata": {
    "ExecuteTime": {
     "end_time": "2018-05-15T21:58:58.146382Z",
     "start_time": "2018-05-15T21:58:58.013143Z"
    },
    "id": "DOJdXPGr7IFn"
   },
   "outputs": [],
   "source": [
    "# Read in chains and parameters\n",
    "chain = np.loadtxt(outDir + '/chain_1.txt')\n",
    "burn = int(0.25*chain.shape[0])\n",
    "pars = np.loadtxt(outDir + '/pars.txt', dtype=np.unicode_)"
   ]
  },
  {
   "cell_type": "code",
   "execution_count": null,
   "metadata": {
    "id": "x1oihKPh7IFn"
   },
   "outputs": [],
   "source": [
    "# this allows for some interesting post\n",
    "# processing plots to be created quickly\n",
    "pp = model_utils.PostProcessing(chain, pars)\n",
    "# pp.plot_trace()  # traces of all parameters to diagnose sampling\n",
    "hist_kwargs = {'bins':50, 'density':True}\n",
    "# pp.plot_hist(hist_kwargs)"
   ]
  },
  {
   "cell_type": "code",
   "execution_count": null,
   "metadata": {
    "ExecuteTime": {
     "end_time": "2018-05-15T21:58:58.777011Z",
     "start_time": "2018-05-15T21:58:58.555011Z"
    },
    "id": "fD1Y4Lpu7IFn",
    "outputId": "53df4b0a-710f-43d4-e78c-fa12762c7dae"
   },
   "outputs": [],
   "source": [
    "# Plot GW amplitude posterior\n",
    "ind = list(pars).index('gw_log10_A')\n",
    "plt.hist(chain[burn:,ind], bins=100);"
   ]
  },
  {
   "cell_type": "code",
   "execution_count": null,
   "metadata": {
    "ExecuteTime": {
     "end_time": "2018-05-15T21:59:00.397744Z",
     "start_time": "2018-05-15T21:59:00.366793Z"
    },
    "id": "_m1THGsK7IFn",
    "outputId": "0f19d82d-5879-4617-ee34-84265d072b63"
   },
   "outputs": [],
   "source": [
    "# Compute maximum posterior value\n",
    "hist = np.histogram(chain[burn:, pta.param_names.index('gw_log10_A')],\n",
    "                          bins=100,\n",
    "                          density=False)\n",
    "max_ind = np.argmax(hist[0])\n",
    "print('our_max =', hist[1][max_ind])  # from our computation"
   ]
  },
  {
   "cell_type": "markdown",
   "metadata": {
    "id": "ZJxUS1Fc7IFn"
   },
   "source": [
    "* We want to be able to compute the Bayesian odds for a GWB in the data. This can be done using the hypermodel class, where we choose between a `model_2a` with a common (but uncorrelated) red process in the pulsars, and `model_1` with no GWB in the model.\n",
    "\n",
    "* We typically perform detection-type analyses with uniform-in-log priors on all amplitude parameters for low-frequency processes. This is implemented below with `upper_limit` equal to `False`."
   ]
  },
  {
   "cell_type": "markdown",
   "metadata": {
    "id": "bkondzus7IFn"
   },
   "source": [
    "## Setup dictionary of PTA models\n",
    "* `model_1` consists of a PTA with only intrinsic red noise\n",
    "* `model_2a` includes a GWB term where we set the spectral index to 13/3\n",
    "* In both cases, it is not necessary to include all of the keyword arguments but they are included here to show the different options that are available\n",
    "* There are other model functions built into `enterprise_extensions`.\n",
    "* Check out the docstrings of each function in the `models.py` file of `enterprise_extensions` for more information."
   ]
  },
  {
   "cell_type": "code",
   "execution_count": null,
   "metadata": {
    "ExecuteTime": {
     "end_time": "2018-05-15T21:59:25.363204Z",
     "start_time": "2018-05-15T21:59:22.414521Z"
    },
    "id": "BmqUithU7IFn",
    "outputId": "b26d7af6-c1ed-466c-a490-636c7cdcfaa9",
    "tags": [
     "outputPrepend"
    ]
   },
   "outputs": [],
   "source": [
    "nmodels = 2\n",
    "mod_index = np.arange(nmodels)\n",
    "\n",
    "# Make dictionary of PTAs.\n",
    "pta = dict.fromkeys(mod_index)\n",
    "pta[0] = models.model_1(psrs, psd='powerlaw', noisedict=params, white_vary=False,\n",
    "                        components=30, upper_limit=False, bayesephem=False,\n",
    "                        be_type='orbel', is_wideband=False, use_dmdata=False,\n",
    "                        select='backend')\n",
    "pta[1] = models.model_2a(psrs, psd='powerlaw', noisedict=params, components=30,\n",
    "                         n_rnfreqs = None, n_gwbfreqs=None, gamma_common=13/3,\n",
    "                         delta_common=None, upper_limit=False, bayesephem=False,\n",
    "                         be_type='orbel', white_vary=False, is_wideband=False,\n",
    "                         use_dmdata=False, select='backend',\n",
    "                         pshift=False, pseed=None, psr_models=False)"
   ]
  },
  {
   "cell_type": "markdown",
   "metadata": {
    "id": "lmLXrTsZ7IFn"
   },
   "source": [
    "* In setting up the `HyperModel` in the next cell, we set weights to make the models sample more evenly.\n",
    "* This will be taken into account when we compute the Bayes factor later.\n",
    "* We also use an `empirical distribution` to tell the sampler what we found on previous runs to reduce the number of samples required for burn-in."
   ]
  },
  {
   "cell_type": "code",
   "execution_count": null,
   "metadata": {
    "ExecuteTime": {
     "end_time": "2018-05-15T21:59:38.043468Z",
     "start_time": "2018-05-15T21:59:38.006027Z"
    },
    "id": "-s5UyaYD7IFn"
   },
   "outputs": [],
   "source": [
    "super_model = hypermodel.HyperModel(pta, log_weights=[10, 0])"
   ]
  },
  {
   "cell_type": "markdown",
   "metadata": {
    "id": "jEH40_497IFo"
   },
   "source": [
    "## Sample"
   ]
  },
  {
   "cell_type": "code",
   "execution_count": null,
   "metadata": {
    "ExecuteTime": {
     "end_time": "2018-05-15T21:59:40.020837Z",
     "start_time": "2018-05-15T21:59:39.985755Z"
    },
    "id": "1npuxwEF7IFo",
    "outputId": "67cd3a9b-dd92-4b8d-b93d-c948769bda8d"
   },
   "outputs": [],
   "source": [
    "sampler = super_model.setup_sampler(resume=False, outdir=outDir, sample_nmodel=True,\n",
    "                                    empirical_distr='12yr_emp_dist_RNonly_py3.pkl')"
   ]
  },
  {
   "cell_type": "code",
   "execution_count": null,
   "metadata": {
    "ExecuteTime": {
     "end_time": "2018-05-15T21:59:40.335389Z",
     "start_time": "2018-05-15T21:59:40.301829Z"
    },
    "id": "EcXbqBHW7IFo"
   },
   "outputs": [],
   "source": [
    "# This will take about an hour to sample\n",
    "# To sample it properly will take 10+ hours\n",
    "# sampler for N steps\n",
    "N = int(1e5)  # 5e6 is a good number for a real analysis\n",
    "x0 = super_model.initial_sample()"
   ]
  },
  {
   "cell_type": "code",
   "execution_count": null,
   "metadata": {
    "ExecuteTime": {
     "end_time": "2018-05-15T22:07:38.858293Z",
     "start_time": "2018-05-15T21:59:41.689205Z"
    },
    "id": "AKyYJUN_7IFo",
    "outputId": "cd567beb-fbf5-4c1b-b3e3-671a5cbe960a"
   },
   "outputs": [],
   "source": [
    "# sample\n",
    "sampler.sample(x0, N, SCAMweight=30, AMweight=15, DEweight=50, )"
   ]
  },
  {
   "cell_type": "markdown",
   "metadata": {
    "id": "ukvtjVd27IFo"
   },
   "source": [
    "## Post-process"
   ]
  },
  {
   "cell_type": "code",
   "execution_count": null,
   "metadata": {
    "ExecuteTime": {
     "end_time": "2018-05-15T22:07:42.274771Z",
     "start_time": "2018-05-15T22:07:41.979583Z"
    },
    "id": "_raoQK9H7IFp"
   },
   "outputs": [],
   "source": [
    "chain = np.loadtxt(outDir + '/chain_1.txt')\n",
    "burn = int(0.25*chain.shape[0])\n",
    "pars = np.loadtxt(outDir + '/pars.txt', dtype=np.unicode_)\n",
    "\n",
    "pp = model_utils.PostProcessing(chain, pars)"
   ]
  },
  {
   "cell_type": "code",
   "execution_count": null,
   "metadata": {
    "id": "j5OSwSQ87IFp",
    "outputId": "2efc3dda-c50e-464d-e023-632e3f088061"
   },
   "outputs": [],
   "source": [
    "# Make trace-plot to diagnose sampling\n",
    "ind_model = list(pars).index('nmodel')\n",
    "plt.plot(chain[:, ind_model])"
   ]
  },
  {
   "cell_type": "code",
   "execution_count": null,
   "metadata": {
    "id": "8gpS2Xek7IFp",
    "outputId": "f59c4aef-d3c7-4b28-d92e-bdab503ee047"
   },
   "outputs": [],
   "source": [
    "print(pars)"
   ]
  },
  {
   "cell_type": "code",
   "execution_count": null,
   "metadata": {
    "ExecuteTime": {
     "end_time": "2018-05-15T22:07:44.047020Z",
     "start_time": "2018-05-15T22:07:43.807128Z"
    },
    "id": "q_REz3w37IFp",
    "outputId": "796b05c0-a43b-4f2c-bed0-1603d3044d21"
   },
   "outputs": [],
   "source": [
    "# Plot histgram for GW amplitude\n",
    "chain_burn = chain[burn:,:]\n",
    "\n",
    "ind_model = list(pars).index('nmodel')\n",
    "ind_gwamp = list(pars).index('gw_log10_A')\n",
    "\n",
    "# ORF = None\n",
    "#plt.hist(chain_burn[chain_burn[:, ind_model] < 0.5, ind_gwamp], bins=40);\n",
    "\n",
    "# ORF = Hellings & Downs\n",
    "plt.hist(chain_burn[chain_burn[:, ind_model] > 0.5, ind_gwamp], bins=40);"
   ]
  },
  {
   "cell_type": "code",
   "execution_count": null,
   "metadata": {
    "ExecuteTime": {
     "end_time": "2018-05-15T22:07:46.481391Z",
     "start_time": "2018-05-15T22:07:46.244859Z"
    },
    "id": "xzqd1RUl7IFp",
    "outputId": "91fb5321-d254-461b-b378-2cd1dea07b7b"
   },
   "outputs": [],
   "source": [
    "# Plot histogram for GWB model selection\n",
    "# This will tell us how much we have sampled for each model\n",
    "plt.hist(chain_burn[:, ind_model], bins=40);"
   ]
  },
  {
   "cell_type": "markdown",
   "metadata": {
    "id": "k04HGrnW7IFq"
   },
   "source": [
    "### Hypermodel\n",
    "* The hypermodel overwhelmingly favors the second model (nmodel > 0.5)\n",
    "* We even weighted the first model by a factor of 10\n",
    "* Ideally we would sample for longer and hopefully get some more samples in nmodel < 0.5"
   ]
  },
  {
   "cell_type": "markdown",
   "metadata": {
    "id": "m5f_fhq07IFq"
   },
   "source": [
    "### Posterior odds ratio\n",
    "\n",
    "* This gives the Bayesian odds between a model with no red process between pulsars (`model_1`), and a common (but uncorrelated) red process between pulsars (`model_2a`).\n",
    "* This will tell us if the pulsars prefer a common red noise term over no common term, but it will not tell us if this is the GWB.\n",
    "* We will return to this in the next section to compare between a common (uncorrelated) red noise term and a red noise term with Hellings and Downs (HD) correlations.\n",
    "* HD correlations would indicate that the common signal is a gravitational wave background.\n",
    "* The Bayes Factor here indicates that there is **strong** evidence for a common red noise signal among pulsars"
   ]
  },
  {
   "cell_type": "code",
   "execution_count": null,
   "metadata": {
    "ExecuteTime": {
     "end_time": "2018-05-15T22:08:40.590729Z",
     "start_time": "2018-05-15T22:08:40.559995Z"
    },
    "id": "LR-Ek7ii7IFq",
    "outputId": "cee2b1b2-6e13-40fa-b940-b3fb2aa76290"
   },
   "outputs": [],
   "source": [
    "# The first number is the Bayes factor (BF) and the second number is the uncertainty on the BF\n",
    "bf, unc = model_utils.odds_ratio(chain_burn[:, ind_model], models=[0,1])\n",
    "print(bf, unc)"
   ]
  },
  {
   "cell_type": "code",
   "execution_count": null,
   "metadata": {
    "id": "6v8MOqIy7IFq",
    "outputId": "e086eac7-f4d5-49f4-8ace-e35b944452f5"
   },
   "outputs": [],
   "source": [
    "log10bf = np.log10(bf*10)  # we multiply by 10 to undo the weight\n",
    "print(log10bf)"
   ]
  },
  {
   "cell_type": "markdown",
   "metadata": {
    "id": "CHhr67Lw7IFq"
   },
   "source": [
    "* Note that this Bayes factor is still a little low compared to the value found in the paper\n",
    "* With more pulsars in the data set, we could recover the full log10BF of 4.5 for the `DE438` ephemeris."
   ]
  },
  {
   "cell_type": "markdown",
   "metadata": {
    "id": "OSTgdBs07IFq"
   },
   "source": [
    "# Reproducing figures from 12.5 year stochastic paper"
   ]
  },
  {
   "cell_type": "markdown",
   "metadata": {
    "id": "GggJBbeF7IFq"
   },
   "source": [
    "## Download data from 12.5 year stochastic paper"
   ]
  },
  {
   "cell_type": "code",
   "execution_count": null,
   "metadata": {
    "id": "mk4XKBuQ7IFq",
    "outputId": "e739b2c7-4ac6-463d-ce13-34e6b398e3d6"
   },
   "outputs": [],
   "source": [
    "# temporary method for installing chain files\n",
    "!pip install gdown"
   ]
  },
  {
   "cell_type": "code",
   "execution_count": null,
   "metadata": {
    "id": "mgZsJTzS7IFq"
   },
   "outputs": [],
   "source": [
    "dldir = '../downloaded_chains/'\n",
    "if not os.path.exists(dldir):\n",
    "    os.makedirs(dldir)"
   ]
  },
  {
   "cell_type": "code",
   "execution_count": null,
   "metadata": {
    "id": "0dfzBO3s7IFq",
    "outputId": "4c58ca95-6b26-4032-bcdb-f46b30a60d95"
   },
   "outputs": [],
   "source": [
    "!gdown --id 1G0I029nqM9r9Tp5syNErnzlvf9NG34zO -O '../downloaded_chains/12p5yr_DE438_model2a_cRN5freq_gammaFixed4.33_chain.gz'\n",
    "!gdown --id 1KSk6eo5UWs_bqqQFECp8DqdWwASQk4w- -O '../downloaded_chains/12p5yr_DE438_model2a_cRN5freq_gammaVary_chain.gz'\n",
    "!gdown --id 1hwIWPXXG1tIAe7OBTNBRLcMIswiKdxLq -O '../downloaded_chains/12p5yr_DE438_model2a_cRN30freq_gammaVary_chain.gz'\n",
    "!gdown --id 1sy349w0xlnYvforOyPySz8U61ix6SyVQ -O '../downloaded_chains/12p5yr_DE438_model2a_PSDbrokenplaw_gammaVary_chain.gz'\n",
    "!gdown --id 1wRge1E41-aoug2CZaLUZOUQMZuYEzUTc -O '../downloaded_chains/12p5yr_DE438_model2a_PSDspectrum_chain.gz'\n",
    "!gdown --id 1ZOh5qEuThewtZTFtsfvkYMIOidijaShl -O '../downloaded_chains/12p5yr_DE438wBayesEphem_model2a_cRN5freq_gammaFixed4.33_chain.gz'\n",
    "!gdown --id 1dr-2v2lau2CITECv-ahwQkBrsB6pJzJQ -O '../downloaded_chains/12p5yr_INPOP19_model2a_cRN5freq_gammaFixed4.33_chain.gz'\n",
    "!gdown --id 1jZyAYUx2qOBfBxXPvcxvGCPThFY8Txtl -O '../downloaded_chains/12p5yr_INPOP19wBayesEphem_model2a_cRN5freq_gammaFixed4.33_chain.gz'\n",
    "!gdown --id 1dzTWzc5ozMiVnXB0M8kz4T00m1jxkt0l -O '../downloaded_chains/12p5yr_DE438_model2a_PSDbrokenplaw_gammaVary_pars.txt'\n",
    "!gdown --id 13QxU8ijjnY9YtoCebZpDhfC7k_DrePxX -O '../downloaded_chains/12p5yr_DE438wBayesEphem_model2a_cRN5freq_gammaFixed4.33_pars.txt'\n",
    "!gdown --id 12pjntRjJQvL8N0CXCVyGupLV6ARIXPOr -O '../downloaded_chains/12p5yr_DE438_model2a_cRN5freq_gammaFixed4.33_pars.txt'"
   ]
  },
  {
   "cell_type": "markdown",
   "metadata": {
    "id": "Luc8mtyk7IFq"
   },
   "source": [
    "## Figure 3\n",
    "\n",
    "* In the last section we showed that there is strong evidence for a common-amplitude process which is the first arrow on Figure 3.\n",
    "* In the first part of this section, we want to revisit this result and consider a process with HD correlations vs. the uncorrelated signal."
   ]
  },
  {
   "cell_type": "code",
   "execution_count": null,
   "metadata": {
    "id": "NdBgF2M07IFq",
    "outputId": "714cc08f-c034-4585-dc12-f800e8365f0f",
    "tags": [
     "outputPrepend"
    ]
   },
   "outputs": [],
   "source": [
    "nmodels = 2\n",
    "mod_index = np.arange(nmodels)\n",
    "\n",
    "# Make dictionary of PTAs.\n",
    "pta = dict.fromkeys(mod_index)\n",
    "pta[0] = models.model_2a(psrs, psd='powerlaw', noisedict=params, components=30,\n",
    "             n_rnfreqs = None, n_gwbfreqs=None, gamma_common=None,\n",
    "             delta_common=None, upper_limit=False, bayesephem=False,\n",
    "             be_type='orbel', white_vary=False, is_wideband=False,\n",
    "             use_dmdata=False, select='backend',\n",
    "             pshift=False, pseed=None, psr_models=False)\n",
    "pta[1] = models.model_3a(psrs, psd='powerlaw', noisedict=params, white_vary=False,\n",
    "             components=30, n_rnfreqs = None, n_gwbfreqs=None,\n",
    "             gamma_common=None, delta_common=None, upper_limit=False,\n",
    "             bayesephem=False, be_type='orbel', is_wideband=False,\n",
    "             use_dmdata=False, select='backend',\n",
    "             correlationsonly=False,\n",
    "             pshift=False, pseed=None, psr_models=False)"
   ]
  },
  {
   "cell_type": "code",
   "execution_count": null,
   "metadata": {
    "id": "Y1Fv9B3D7IFq",
    "outputId": "430d17ad-d1ad-4159-a091-196408b2a572"
   },
   "outputs": [],
   "source": [
    "super_model = hypermodel.HyperModel(pta)\n",
    "sampler = super_model.setup_sampler(resume=False, outdir=outDir, sample_nmodel=True,\n",
    "                                    empirical_distr='12yr_emp_dist_RNonly_py3.pkl')\n",
    "# This will take about an hour to sample\n",
    "# To sample it properly will take 10+ hours\n",
    "# sampler for N steps\n",
    "N = int(1e4)  # 5e6 is a good number for a real analysis\n",
    "x0 = super_model.initial_sample()\n",
    "sampler.sample(x0, N, SCAMweight=30, AMweight=15, DEweight=50, )"
   ]
  },
  {
   "cell_type": "code",
   "execution_count": null,
   "metadata": {
    "id": "2E2UbW2n7IFq"
   },
   "outputs": [],
   "source": [
    "chain = np.loadtxt(outDir + '/chain_1.txt')\n",
    "burn = int(0.25*chain.shape[0])\n",
    "pars = np.loadtxt(outDir + '/pars.txt', dtype=np.unicode_)\n",
    "\n",
    "pp = model_utils.PostProcessing(chain, pars)"
   ]
  },
  {
   "cell_type": "code",
   "execution_count": null,
   "metadata": {
    "id": "O61A0uT47IFq",
    "outputId": "3030860c-e0a0-4646-8ec7-ad19fe3e9b32"
   },
   "outputs": [],
   "source": [
    "print(pars)"
   ]
  },
  {
   "cell_type": "code",
   "execution_count": null,
   "metadata": {
    "id": "wiRbG2g27IFq",
    "outputId": "d046fc92-c4de-40f5-86dc-53ff0fc8d11a"
   },
   "outputs": [],
   "source": [
    "# Plot histgram for GW amplitude\n",
    "chain_burn = chain[burn:,:]\n",
    "\n",
    "ind_model = list(pars).index('nmodel')\n",
    "ind_gwamp = list(pars).index('gw_log10_A')\n",
    "\n",
    "# ORF = None\n",
    "#plt.hist(chain_burn[chain_burn[:, ind_model] < 0.5, ind_gwamp], bins=40);\n",
    "\n",
    "# ORF = Hellings & Downs\n",
    "plt.hist(chain_burn[chain_burn[:, ind_model] > 0.5, ind_gwamp], bins=40);"
   ]
  },
  {
   "cell_type": "markdown",
   "metadata": {
    "id": "NFQJN61f7IFq"
   },
   "source": [
    "* It is clear from this plot that we are undersampling the posterior.\n",
    "* However, the Bayes factor should be close according to the following plot\n",
    "* We are apparently getting a decent amount of samples in each model"
   ]
  },
  {
   "cell_type": "code",
   "execution_count": null,
   "metadata": {
    "id": "cmkADmUd7IFq",
    "outputId": "4b3e18f8-9529-46bc-e859-cc25035dddb7"
   },
   "outputs": [],
   "source": [
    "# Plot histogram for GWB model selection\n",
    "# This will tell us how much we have sampled for each model\n",
    "plt.hist(chain_burn[:, ind_model], bins=40);"
   ]
  },
  {
   "cell_type": "code",
   "execution_count": null,
   "metadata": {
    "id": "YZjacChM7IFq",
    "outputId": "13d42747-229c-472b-8995-72aebdd2e92c"
   },
   "outputs": [],
   "source": [
    "# The first number is the Bayes factor (BF) and the second number is the uncertainty on the BF\n",
    "bf, unc = model_utils.odds_ratio(chain_burn[:, ind_model], models=[0,1])\n",
    "print(bf, unc)"
   ]
  },
  {
   "cell_type": "code",
   "execution_count": null,
   "metadata": {
    "id": "et58S6tH7IFr",
    "outputId": "3c145e58-a501-406b-fe75-bbe1674df9d4"
   },
   "outputs": [],
   "source": [
    "log10bf = np.log10(bf)\n",
    "print(log10bf)"
   ]
  },
  {
   "cell_type": "markdown",
   "metadata": {
    "id": "2bC1aUoM7IFr"
   },
   "source": [
    "* Once again we have sampled this at a much lower rate that is required to get the answer in the 12.5 year paper.\n",
    "* We also have only half the pulsars.\n",
    "* In order to get the exact number listed in the 12.5 year paper, we need to fill out the posterior distribution with more samples and include the rest of the pulsars.\n",
    "* There is no clear evidence for HD correlations\n",
    "* The upshot is that we can say with confidence that there is **something** in the 12.5 year data set that looks like a background, but at this point we can't say what exactly that something is."
   ]
  },
  {
   "cell_type": "markdown",
   "metadata": {
    "id": "CfDeexkk7IFr"
   },
   "source": [
    "## Figure 1"
   ]
  },
  {
   "cell_type": "code",
   "execution_count": null,
   "metadata": {
    "id": "cWIrylZQ7IFr"
   },
   "outputs": [],
   "source": [
    "## Plotting Parameters For matplotlib\n",
    "def figsize(scale):\n",
    "    fig_width_pt = 513.17 #469.755    # Get this from LaTeX using \\the\\textwidth\n",
    "    inches_per_pt = 1.0 / 72.27         # Convert pt to inch\n",
    "    golden_mean = (np.sqrt(5.0)-1.0)/2.0    # Aesthetic ratio\n",
    "    fig_width = fig_width_pt * inches_per_pt * scale  # width in inches\n",
    "    fig_height = fig_width * golden_mean              # height in inches\n",
    "    fig_size = [fig_width, fig_height]\n",
    "    return fig_size\n",
    "\n",
    "plt.rcParams.update(plt.rcParamsDefault)\n",
    "params = {'backend': 'pdf',\n",
    "        'axes.labelsize': 10,\n",
    "        'lines.markersize': 4,\n",
    "        'font.size': 10,\n",
    "        'xtick.major.size':6,\n",
    "        'xtick.minor.size':3,\n",
    "        'ytick.major.size':6,\n",
    "        'ytick.minor.size':3,\n",
    "        'xtick.major.width':0.5,\n",
    "        'ytick.major.width':0.5,\n",
    "        'xtick.minor.width':0.5,\n",
    "        'ytick.minor.width':0.5,\n",
    "        'lines.markeredgewidth':1,\n",
    "        'axes.linewidth':1.2,\n",
    "        'legend.fontsize': 7,\n",
    "        'xtick.labelsize': 10,\n",
    "        'ytick.labelsize': 10,\n",
    "        'savefig.dpi':200,\n",
    "        'path.simplify':True,\n",
    "        'font.family': 'serif',\n",
    "        'font.serif':'Times',\n",
    "        'text.latex.preamble': [r'\\usepackage{amsmath}'],\n",
    "        'text.usetex':True,\n",
    "        'figure.figsize': figsize(0.5)}\n",
    "\n",
    "plt.rcParams.update(params)"
   ]
  },
  {
   "cell_type": "code",
   "execution_count": null,
   "metadata": {
    "id": "Bmbj51ge7IFs"
   },
   "outputs": [],
   "source": [
    "# # Common Process Spectral Model Comparison Plot (Figure 1) # #\n",
    "\n",
    "## Definition for powerlaw and broken powerlaw for left side of Figure 1\n",
    "def powerlaw(f, log10_A=-16, gamma=4.3333):\n",
    "    return np.sqrt((10**log10_A)**2 / 12.0 / np.pi**2 * const.fyr**(gamma-3) * f**(-gamma) * f[0])\n",
    "\n",
    "def Broken_powerlaw(f, log10_A=-16, gamma=4.3333, log10_fb=-8, delta=0, kappa=0.1):\n",
    "    hcf = (10**log10_A) * (f / const.fyr) ** ((3-gamma) / 2) * (1 + (f / 10**log10_fb) ** (1/kappa)) ** (kappa * (gamma - delta) / 2)\n",
    "    return np.sqrt(hcf**2 / 12 / np.pi**2 / f**3 * f[0])\n",
    "\n",
    "# determine placement of frequency components\n",
    "Tspan = 12.893438736619137 * (365 * 86400) #psr.toas.max() - psr.toas.min() #\n",
    "freqs_30 = 1.0 * np.arange(1, 31) / Tspan\n",
    "freqs_5 = 1.0 * np.arange(1, 6) / Tspan"
   ]
  },
  {
   "cell_type": "markdown",
   "metadata": {
    "id": "wE7govmn7IFs"
   },
   "source": [
    "* In this next cell, we put some clips of code that can be run to sample the chains.\n",
    "* We do not recommend running the chains for yourself without significant computational resources due to the large amount of time required to get the posterior sampled properly."
   ]
  },
  {
   "cell_type": "code",
   "execution_count": null,
   "metadata": {
    "id": "Rpg8FMJM7IFs"
   },
   "outputs": [],
   "source": [
    "# import chains\n",
    "# I did some thinning of my own since the chains were so massive\n",
    "\n",
    "## broken power law\n",
    "# models.model_2a(psrs, psd='turnover', noisedict=params, components=30,\n",
    "#              n_rnfreqs = None, n_gwbfreqs=None, gamma_common=None,\n",
    "#              delta_common=None, upper_limit=False, bayesephem=False,\n",
    "#              be_type='orbel', white_vary=False, is_wideband=False,\n",
    "#              use_dmdata=False, select='backend',\n",
    "#              pshift=False, pseed=None, psr_models=False)\n",
    "\n",
    "chain_DE438_bplaw_vary = np.loadtxt('../downloaded_chains/12p5yr_DE438_model2a_PSDbrokenplaw_gammaVary_chain.gz', usecols=np.arange(-7,-3), skiprows=25000)\n",
    "chain_DE438_bplaw_vary = chain_DE438_bplaw_vary[::5]\n",
    "pars_DE438_bplaw_vary = np.loadtxt('../downloaded_chains/12p5yr_DE438_model2a_PSDbrokenplaw_gammaVary_pars.txt', dtype=np.str)\n",
    "\n",
    "## 5 frequency\n",
    "# models.model_2a(psrs, psd='powerlaw', noisedict=params, components=5,\n",
    "#              n_rnfreqs = None, n_gwbfreqs=None, gamma_common=None,\n",
    "#              delta_common=None, upper_limit=False, bayesephem=False,\n",
    "#              be_type='orbel', white_vary=False, is_wideband=False,\n",
    "#              use_dmdata=False, select='backend',\n",
    "#              pshift=False, pseed=None, psr_models=False)\n",
    "\n",
    "chain_DE438_vary = np.loadtxt('../downloaded_chains/12p5yr_DE438_model2a_cRN5freq_gammaVary_chain.gz', usecols=[90,91,92], skiprows=25000)\n",
    "chain_DE438_vary = chain_DE438_vary[::4]\n",
    "\n",
    "## 30 frequency\n",
    "# models.model_2a(psrs, psd='powerlaw', noisedict=params, components=30,\n",
    "#              n_rnfreqs = None, n_gwbfreqs=None, gamma_common=None,\n",
    "#              delta_common=None, upper_limit=False, bayesephem=False,\n",
    "#              be_type='orbel', white_vary=False, is_wideband=False,\n",
    "#              use_dmdata=False, select='backend',\n",
    "#              pshift=False, pseed=None, psr_models=False)\n",
    "\n",
    "chain_DE438_30f_vary = np.loadtxt('../downloaded_chains/12p5yr_DE438_model2a_cRN30freq_gammaVary_chain.gz', usecols=[90,91,92], skiprows=25000)\n",
    "chain_DE438_30f_vary = chain_DE438_30f_vary[::4]\n",
    "\n",
    "## Free Spectral\n",
    "# models.model_2a(psrs, psd='spectrum', noisedict=params, components=30,\n",
    "#              n_rnfreqs = None, n_gwbfreqs=None, gamma_common=None,\n",
    "#              delta_common=None, upper_limit=False, bayesephem=False,\n",
    "#              be_type='orbel', white_vary=False, is_wideband=False,\n",
    "#              use_dmdata=False, select='backend',\n",
    "#              pshift=False, pseed=None, psr_models=False)\n",
    "\n",
    "chain_DE438_FreeSpec = np.loadtxt('../downloaded_chains/12p5yr_DE438_model2a_PSDspectrum_chain.gz', usecols=np.arange(90,120), skiprows=30000)\n",
    "chain_DE438_FreeSpec = chain_DE438_FreeSpec[::5]"
   ]
  },
  {
   "cell_type": "code",
   "execution_count": null,
   "metadata": {
    "id": "3thiazao7IFs"
   },
   "outputs": [],
   "source": [
    "# Pull MLV params\n",
    "DE438_vary_Bpl_idx = np.argmax(chain_DE438_bplaw_vary[:,-1])\n",
    "DE438_vary_5cRN_idx = np.argmax(chain_DE438_vary[:,-1])\n",
    "DE438_vary_30cRN_idx = np.argmax(chain_DE438_30f_vary[:,-1])\n",
    "\n",
    "# Make MLV Curves\n",
    "PL_5freq = powerlaw(freqs_5, log10_A=chain_DE438_vary[:,1][DE438_vary_5cRN_idx], gamma=chain_DE438_vary[:,0][DE438_vary_5cRN_idx])\n",
    "PL_30freq = powerlaw(freqs_30, log10_A=chain_DE438_30f_vary[:,1][DE438_vary_30cRN_idx], gamma=chain_DE438_30f_vary[:,0][DE438_vary_30cRN_idx])\n",
    "bPL = Broken_powerlaw(freqs_30, log10_A=chain_DE438_bplaw_vary[:,1][DE438_vary_Bpl_idx], log10_fb=chain_DE438_bplaw_vary[:,2][DE438_vary_Bpl_idx], gamma=chain_DE438_bplaw_vary[:,0][DE438_vary_Bpl_idx])\n"
   ]
  },
  {
   "cell_type": "code",
   "execution_count": null,
   "metadata": {
    "id": "jp2UZ8tx7IFs"
   },
   "outputs": [],
   "source": [
    "# Create an array for the bPL, 5f, and 30f chains\n",
    "## (to be able to make the 1-sigma regions and plot mean curves)\n",
    "bPL_num = int(chain_DE438_bplaw_vary[:,0].shape[0] / 5.)\n",
    "bPL_array = np.zeros((bPL_num,30))\n",
    "for ii in range(bPL_num):\n",
    "    bPL_array[ii] = np.log10(Broken_powerlaw(freqs_30, log10_A=chain_DE438_bplaw_vary[ii*5,1], log10_fb=chain_DE438_bplaw_vary[ii*5,2], gamma=chain_DE438_bplaw_vary[ii*5,0]))\n",
    "\n",
    "PL_5freq_num = int(chain_DE438_vary[:,0].shape[0] / 5.)\n",
    "PL_5freq_array = np.zeros((PL_5freq_num,5))\n",
    "for ii in range(PL_5freq_num):\n",
    "    PL_5freq_array[ii] = np.log10(powerlaw(freqs_5, log10_A=chain_DE438_vary[ii*5,1], gamma=chain_DE438_vary[ii*5,0]))\n",
    "\n",
    "PL_30freq_num = int(chain_DE438_30f_vary[:,0].shape[0] / 5.)\n",
    "PL_30freq_array = np.zeros((PL_30freq_num,30))\n",
    "for ii in range(PL_30freq_num):\n",
    "    PL_30freq_array[ii] = np.log10(powerlaw(freqs_30, log10_A=chain_DE438_30f_vary[ii*5,1], gamma=chain_DE438_30f_vary[ii*5,0]))\n"
   ]
  },
  {
   "cell_type": "code",
   "execution_count": null,
   "metadata": {
    "id": "ekUChPb47IFs",
    "outputId": "5e74d994-306d-4536-ee23-042f1fd4c907"
   },
   "outputs": [],
   "source": [
    "# Make Figure\n",
    "plt.figure(figsize=[2*3.5503666805036667, 2.1942472810764047])\n",
    "\n",
    "# Left Hand Side Of Plot\n",
    "plt.subplot(1,2,1)\n",
    "\n",
    "## Plot MLV Curves\n",
    "#plt.semilogx(freqs_30, np.log10(bPL), color='C0', label='Broken PL')\n",
    "#plt.plot(freqs_5, np.log10(PL_5freq), color='C1', label='PL (5 freq.)', ls='dashed')\n",
    "#plt.plot(freqs_30, np.log10(PL_30freq), color='C2', label='PL (30 freq.)', ls='dashdot')\n",
    "\n",
    "# Plot mean curves w/ 1-sigma regions\n",
    "plt.semilogx(freqs_30, (bPL_array.mean(axis=0)), color='C0', label='Broken PL')\n",
    "plt.fill_between(freqs_30, (bPL_array.mean(axis=0) - bPL_array.std(axis=0)), (bPL_array.mean(axis=0) + bPL_array.std(axis=0)), color='C0', alpha=0.15)\n",
    "\n",
    "plt.semilogx(freqs_5, (PL_5freq_array.mean(axis=0)), color='C1', label='PL (5 freq.)', ls='dashed')\n",
    "plt.fill_between(freqs_5, (PL_5freq_array.mean(axis=0) - PL_5freq_array.std(axis=0)), (PL_5freq_array.mean(axis=0) + PL_5freq_array.std(axis=0)), color='C1', alpha=0.15)\n",
    "\n",
    "plt.semilogx(freqs_30, (PL_30freq_array.mean(axis=0)), color='C2', label='PL (30 freq.)', ls='dashdot')\n",
    "plt.fill_between(freqs_30, (PL_30freq_array.mean(axis=0) - PL_30freq_array.std(axis=0)), (PL_30freq_array.mean(axis=0) + PL_30freq_array.std(axis=0)), color='C2', alpha=0.15)\n",
    "\n",
    "# Plot Free Spectral Violin Plot\n",
    "vpt = plt.violinplot(chain_DE438_FreeSpec, positions=(freqs_30), widths=0.05*freqs_30, showextrema=False)\n",
    "for pc in vpt['bodies']:\n",
    "    pc.set_facecolor('k')\n",
    "    pc.set_alpha(0.3)\n",
    "\n",
    "# Plot Labels\n",
    "plt.xlabel(r'Frequency [Hz]')\n",
    "plt.ylabel(r'log$_{10}$ CP Delay [s]') # Residual [s]\n",
    "plt.ylim(-9, -6)\n",
    "plt.xlim(10**-8.7,10**-7.15)\n",
    "plt.legend(loc=9)\n",
    "\n",
    "# f = f_yr line\n",
    "plt.axvline(3.17e-8, color='k', linestyle='dotted')\n",
    "\n",
    "# Right Hand Plot\n",
    "plt.subplot(1,2,2)\n",
    "\n",
    "crn = corner.hist2d(chain_DE438_bplaw_vary[:,0], chain_DE438_bplaw_vary[:,1], color='C0', plot_datapoints=False, plot_density=False, levels=[0.67], countour_kwargs={'linewidths':2})\n",
    "corner.hist2d(chain_DE438_bplaw_vary[:,0], chain_DE438_bplaw_vary[:,1], color='C0', plot_datapoints=False, plot_density=False, levels=[0.95], countour_kwargs={'linewidths':1}, ax=crn)\n",
    "\n",
    "corner.hist2d(chain_DE438_vary[:,0], chain_DE438_vary[:,1], color='C1', plot_datapoints=False, plot_density=False, levels=[0.67], contour_kwargs={'linestyles':'dashed','linewidths':2}, ax=crn)\n",
    "corner.hist2d(chain_DE438_vary[:,0], chain_DE438_vary[:,1], color='C1', plot_datapoints=False, plot_density=False, levels=[0.95], contour_kwargs={'linestyles':'dashed','linewidths':1}, ax=crn)\n",
    "\n",
    "corner.hist2d(chain_DE438_30f_vary[:,0], chain_DE438_30f_vary[:,1], color='C2', plot_datapoints=False, plot_density=False, levels=[0.67], contour_kwargs={'linestyles':'dashdot','linewidths':2}, ax=crn)\n",
    "corner.hist2d(chain_DE438_30f_vary[:,0], chain_DE438_30f_vary[:,1], color='C2', plot_datapoints=False, plot_density=False, levels=[0.95], contour_kwargs={'linestyles':'dashdot','linewidths':1}, ax=crn)\n",
    "\n",
    "# gamma = 13/3 line\n",
    "plt.axvline(13/3., color='k', linestyle='dashed')\n",
    "\n",
    "# Plot Labels\n",
    "plt.ylim(-16.25, -13.25)\n",
    "plt.xlim(0,6.75)\n",
    "plt.xticks([0,1,2,3,4,5,6])\n",
    "plt.ylabel('$\\log_{10}\\, A_\\mathrm{CP}$')\n",
    "plt.xlabel(r'$\\gamma_\\mathrm{CP}$')\n",
    "\n",
    "plt.subplots_adjust(wspace=0.35)\n",
    "plt.show()"
   ]
  },
  {
   "cell_type": "markdown",
   "metadata": {
    "id": "oa4O7M-q7IFs"
   },
   "source": [
    "## Figure 2\n",
    "* Note: The models labeled as such use the `INPOP19` ephemeris. This is changed up above when the data is imported (where we change `DE438` to `INPOP19`)."
   ]
  },
  {
   "cell_type": "code",
   "execution_count": null,
   "metadata": {
    "id": "6cwIzDCh7IFs"
   },
   "outputs": [],
   "source": [
    "# # Common Process Posteriors\n",
    "\n",
    "## Fixed Ephemeris Chains\n",
    "pars_fixed = np.loadtxt('../downloaded_chains/12p5yr_DE438_model2a_cRN5freq_gammaFixed4.33_pars.txt', dtype=np.str)\n",
    "\n",
    "# models.model_2a(psrs, psd='powerlaw', noisedict=params, components=5,\n",
    "#              n_rnfreqs = None, n_gwbfreqs=None, gamma_common=4.33,\n",
    "#              delta_common=None, upper_limit=False, bayesephem=False,\n",
    "#              be_type='orbel', white_vary=False, is_wideband=False,\n",
    "#              use_dmdata=False, select='backend',\n",
    "#              pshift=False, pseed=None, psr_models=False)\n",
    "\n",
    "chain_DE438 = np.loadtxt('../downloaded_chains/12p5yr_DE438_model2a_cRN5freq_gammaFixed4.33_chain.gz', usecols=[90], skiprows=100000)\n",
    "\n",
    "# models.model_2a(psrs, psd='powerlaw', noisedict=params, components=5,\n",
    "#              n_rnfreqs = None, n_gwbfreqs=None, gamma_common=4.33,\n",
    "#              delta_common=None, upper_limit=False, bayesephem=False,\n",
    "#              be_type='orbel', white_vary=False, is_wideband=False,\n",
    "#              use_dmdata=False, select='backend',\n",
    "#              pshift=False, pseed=None, psr_models=False)\n",
    "\n",
    "chain_INPOP19 = np.loadtxt('../downloaded_chains/12p5yr_INPOP19_model2a_cRN5freq_gammaFixed4.33_chain.gz', usecols=[90], skiprows=100000)\n",
    "\n",
    "## BayesEphem w/SetIII Chains\n",
    "\n",
    "pars_setIII = np.loadtxt('../downloaded_chains/12p5yr_DE438wBayesEphem_model2a_cRN5freq_gammaFixed4.33_pars.txt', dtype=np.str)\n",
    "\n",
    "# models.model_2a(psrs, psd='powerlaw', noisedict=params, components=5,\n",
    "#              n_rnfreqs = None, n_gwbfreqs=None, gamma_common=4.33,\n",
    "#              delta_common=None, upper_limit=False, bayesephem=True,\n",
    "#              be_type='orbel', white_vary=False, is_wideband=False,\n",
    "#              use_dmdata=False, select='backend',\n",
    "#              pshift=False, pseed=None, psr_models=False)\n",
    "\n",
    "chain_DE438_s3 = np.loadtxt('../downloaded_chains/12p5yr_DE438wBayesEphem_model2a_cRN5freq_gammaFixed4.33_chain.gz', usecols=[95], skiprows=100000)\n",
    "\n",
    "# models.model_2a(psrs, psd='powerlaw', noisedict=params, components=5,\n",
    "#              n_rnfreqs = None, n_gwbfreqs=None, gamma_common=4.33,\n",
    "#              delta_common=None, upper_limit=False, bayesephem=True,\n",
    "#              be_type='orbel', white_vary=False, is_wideband=False,\n",
    "#              use_dmdata=False, select='backend',\n",
    "#              pshift=False, pseed=None, psr_models=False)\n",
    "\n",
    "chain_INPOP19_s3 = np.loadtxt('../downloaded_chains/12p5yr_INPOP19wBayesEphem_model2a_cRN5freq_gammaFixed4.33_chain.gz', usecols=[95], skiprows=100000)\n"
   ]
  },
  {
   "cell_type": "code",
   "execution_count": null,
   "metadata": {
    "id": "SbYiv0iR7IFs"
   },
   "outputs": [],
   "source": [
    "## Combine chains\n",
    "gw_chains = []\n",
    "#gw_chains.append(chain_DE430_s3[100000::10])\n",
    "#gw_chains.append(chain_DE430[100000::10])\n",
    "#gw_chains.append(chain_DE436_s3[100000::10])\n",
    "#gw_chains.append(chain_DE436[100000::10])\n",
    "gw_chains.append(chain_DE438_s3[100000::10])\n",
    "gw_chains.append(chain_DE438[100000::10])\n",
    "gw_chains.append(chain_INPOP19_s3[100000::10])\n",
    "gw_chains.append(chain_INPOP19[100000::10])"
   ]
  },
  {
   "cell_type": "code",
   "execution_count": null,
   "metadata": {
    "id": "9zxK7iTM7IFs",
    "outputId": "57876b36-f912-40e6-a044-5fb05adb1fc3"
   },
   "outputs": [],
   "source": [
    "# Make Figure\n",
    "figsize(0.5)\n",
    "\n",
    "agwrange = [-15.5,-14.3]\n",
    "agwbins = 45\n",
    "\n",
    "# Plot Posteriors\n",
    "for i,eph in enumerate(['DE438','INPOP19']):\n",
    "    plt.hist(gw_chains[2*i], histtype='step', density=True, bins=agwbins, range=agwrange,\n",
    "            color=\"C%d\"%(i), ls=':')\n",
    "\n",
    "    plt.hist(gw_chains[(2*i)+1], histtype='step', density=True, bins=agwbins, range=agwrange,\n",
    "            color=\"C%d\"%(i), label=eph)\n",
    "\n",
    "# Set Plot Axes\n",
    "plt.axis(xmin=agwrange[0],xmax=agwrange[1])\n",
    "plt.xticks([-15.5,-15,-14.5])\n",
    "plt.xlabel('$\\log_{10}\\, A_\\mathrm{CP}$')\n",
    "plt.ylabel('probability density')\n",
    "\n",
    "# Add text\n",
    "plt.text(-15.45,3.9,'$p(\\log_{10}\\, A_\\mathrm{CP})$')\n",
    "plt.text(-14.5,4,'fixed SSE',ha='center')\n",
    "plt.text(-15.27,0.95,r'$\\textsc{BayesEphem}$',ha='center')\n",
    "\n",
    "# Add legend\n",
    "plt.legend(loc=6)\n",
    "\n",
    "# plt.savefig('Figure2.png',bbox_inches='tight')\n",
    "plt.show()"
   ]
  },
  {
   "cell_type": "markdown",
   "metadata": {
    "id": "xWH6DRtq7IFs"
   },
   "source": [
    "* This concludes the GWB tutorial. Next, we move on to the frequentist optimal statistic analysis tutorial."
   ]
  },
  {
   "cell_type": "code",
   "execution_count": null,
   "metadata": {
    "id": "dqmtRbk07IFs"
   },
   "outputs": [],
   "source": []
  }
 ],
 "metadata": {
  "anaconda-cloud": {},
  "colab": {
   "collapsed_sections": [
    "pFuXhsy_7IFj",
    "frI1DHhU7IFj",
    "TGFUwnhh7IFk",
    "UjyQ0itD7IFk",
    "c95fP1I67IFm",
    "xocVyjYj7IFm",
    "bkondzus7IFn",
    "jEH40_497IFo",
    "ukvtjVd27IFo",
    "k04HGrnW7IFq",
    "m5f_fhq07IFq",
    "GggJBbeF7IFq",
    "Luc8mtyk7IFq",
    "CfDeexkk7IFr",
    "oa4O7M-q7IFs"
   ],
   "provenance": []
  },
  "kernelspec": {
   "display_name": "Python 3",
   "language": "python",
   "name": "python3"
  },
  "language_info": {
   "codemirror_mode": {
    "name": "ipython",
    "version": 3
   },
   "file_extension": ".py",
   "mimetype": "text/x-python",
   "name": "python",
   "nbconvert_exporter": "python",
   "pygments_lexer": "ipython3",
   "version": "3.7.9"
  },
  "toc": {
   "nav_menu": {},
   "number_sections": true,
   "sideBar": true,
   "skip_h1_title": false,
   "toc_cell": false,
   "toc_position": {
    "height": "743px",
    "left": "0px",
    "right": "1458px",
    "top": "107px",
    "width": "212px"
   },
   "toc_section_display": "block",
   "toc_window_display": true
  }
 },
 "nbformat": 4,
 "nbformat_minor": 1
}
