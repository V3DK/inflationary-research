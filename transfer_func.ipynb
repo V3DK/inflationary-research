{
 "cells": [
  {
   "cell_type": "code",
   "execution_count": 1,
   "metadata": {},
   "outputs": [
    {
     "name": "stdout",
     "output_type": "stream",
     "text": [
      "3.11.5 (main, Sep 11 2023, 08:31:25) [Clang 14.0.6 ]\n"
     ]
    }
   ],
   "source": [
    "import sys\n",
    "import math\n",
    "import matplotlib.pyplot as plt\n",
    "import numpy as np\n",
    "import scipy\n",
    "\n",
    "print (sys.version)"
   ]
  },
  {
   "cell_type": "code",
   "execution_count": 33,
   "metadata": {},
   "outputs": [],
   "source": [
    "#setup\n",
    "#tau: conformal time, a: scale factor, k: wavenumber (comoving)\n",
    "#using natural units, hbar = c = 1, working in mpc\n",
    "\n",
    "#constants\n",
    "c = 3 * 1e8\n",
    "h_0 = 0.7 \n",
    "H_0 = h_0 * (1e5 / c) #maggiore, eq 17.5. units: mpc^-1\n",
    "\n",
    "Omega_R = 4.184 * 1e-5 * (h_0 ** -2) #maggiore 17.79\n",
    "Omega_M = 0.3 #maggiore 17.80\n",
    "Omega_L = 1 - Omega_R - Omega_M #see section below maggiore 17.80\n",
    "# Lambda = (1 / 3.24078) * 1e-6 #from wikipedia (converted), units: mpc^-2\n",
    "\n",
    "#RD/MD equilibrium, maggiore values\n",
    "a_eq = Omega_R / Omega_M #maggiore 17.83 (note: turner paper uses Omega_R)\n",
    "# tau_0 = 2 / H_0 #from turner paper\n",
    "tau_0 = 0.879 * 2 / (H_0 * math.sqrt(Omega_M))\n",
    "# tau_eq = (math.sqrt(2) - 1) * tau_0 * math.sqrt(a_eq)\n",
    "tau_star = (2 * math.sqrt(Omega_R)) / (H_0 * Omega_M)\n",
    "tau_eq = (math.sqrt(2) - 1) * tau_star\n",
    "tau_dec = 2.55\n",
    "\n",
    "k_eq = 0.073 * Omega_M * h_0**2 #from papers\n",
    "\n",
    "# k_eq = 1 / tau_eq #turner\n",
    "# k_eq2 = 6.22 * 1e-2 * h_0**2 #forgor\n",
    "\n",
    "#MD/lambdaD equilibrium (?)\n",
    "# a_eq2 = (Omega_M / Omega_L) ** (1/3)\n"
   ]
  },
  {
   "cell_type": "code",
   "execution_count": 3,
   "metadata": {},
   "outputs": [],
   "source": [
    "#functions\n",
    "def a_RD_deep(tau): #deep in RD, maggiore 17.130\n",
    "    return H_0 * math.sqrt(Omega_R) * tau\n",
    "def a_MD_deep(tau): #deep in MD, maggiore 17.143\n",
    "    return (1 / 4) * (H_0 ** 2) * Omega_M * (tau ** 2)\n",
    "\n",
    "#stitches above two functions, not great\n",
    "def a_RDMD_deep(tau):\n",
    "    if tau < tau_eq:\n",
    "        return a_RD_deep(tau)\n",
    "    else:\n",
    "        return a_MD_deep(tau)\n",
    "\n",
    "def a_RDMD(tau): #RD and MD, maggiore 17.152\n",
    "    return a_eq * ((2 * tau / tau_star) + (tau / tau_star)**2 )\n",
    "\n",
    "def a_RDMD_p(tau):\n",
    "    return a_eq * ((2 / tau_star) + (2 * tau / (tau_star ** 2)))\n",
    "\n",
    "def curly_H(tau):\n",
    "    return a_RDMD_p(tau) / a_RDMD(tau)\n",
    "\n",
    "# #turner:\n",
    "# def a_func(tau):\n",
    "#     return ((tau / tau_0) + math.sqrt(a_eq))**2 - a_eq\n",
    "# def a_p_func(tau):\n",
    "#     return (2 / tau_0) * (math.sqrt(a_eq) + (tau / tau_0))\n",
    "# def curly_H(tau):\n",
    "#     return a_p_func(tau) / a_func(tau)"
   ]
  },
  {
   "cell_type": "code",
   "execution_count": 4,
   "metadata": {},
   "outputs": [
    {
     "data": {
      "text/plain": [
       "<matplotlib.lines.Line2D at 0x12781af90>"
      ]
     },
     "execution_count": 4,
     "metadata": {},
     "output_type": "execute_result"
    },
    {
     "data": {
      "image/png": "[encoded data removed]",
      "text/plain": [
       "<Figure size 640x480 with 1 Axes>"
      ]
     },
     "metadata": {},
     "output_type": "display_data"
    }
   ],
   "source": [
    "#testing with functions\n",
    "\n",
    "tau_domain = np.linspace(1, tau_0, 10000)\n",
    "\n",
    "a = (np.vectorize(a_RDMD))(tau_domain)\n",
    "H = (np.vectorize(curly_H))(tau_domain)\n",
    "\n",
    "#derivative test:\n",
    "# a = np.vectorize(a_turner)(tau_domain)\n",
    "# H_num = (np.gradient(a, tau_domain)) / (a)\n",
    "\n",
    "plt.plot(tau_domain, a, c = \"g\")\n",
    "# plt.plot(tau_domain, H, c = \"b\")\n",
    "plt.axvline(tau_eq, color = \"black\", linestyle = \"dashed\")\n",
    "# plt.axvline(tau_0, color = \"black\", linestyle = \"dashed\")\n"
   ]
  },
  {
   "cell_type": "code",
   "execution_count": 53,
   "metadata": {},
   "outputs": [
    {
     "name": "stdout",
     "output_type": "stream",
     "text": [
      "1.0730999999999998e-05\n",
      "186112.27852866103\n",
      "0.00014270725323580144\n"
     ]
    }
   ],
   "source": [
    "#horizon crossing calculations\n",
    "# print(\"known:\", tau_eq)\n",
    "\n",
    "#use this!\n",
    "def hc_H(k): #calc h.c. time for k using curlyH = k\n",
    "    eq = lambda tau: curly_H(tau) - k\n",
    "    return scipy.optimize.fsolve(eq, 0.001)[0]\n",
    "def hc_H_inv(tau): #calc. k s.t. h.c. time for k is tau\n",
    "    return curly_H(tau)\n",
    "\n",
    "# def hc_tau(k): #calc h.c. time for k using k*tau = 1\n",
    "#     return (1 / k)\n",
    "\n",
    "k_try = k_eq\n",
    "\n",
    "print(hc_H_inv(tau_0))\n"
   ]
  },
  {
   "cell_type": "code",
   "execution_count": null,
   "metadata": {},
   "outputs": [],
   "source": []
  },
  {
   "cell_type": "code",
   "execution_count": 66,
   "metadata": {},
   "outputs": [
    {
     "ename": "ValueError",
     "evalue": "The truth value of an array with more than one element is ambiguous. Use a.any() or a.all()",
     "output_type": "error",
     "traceback": [
      "\u001b[0;31m---------------------------------------------------------------------------\u001b[0m",
      "\u001b[0;31mValueError\u001b[0m                                Traceback (most recent call last)",
      "Cell \u001b[0;32mIn[66], line 33\u001b[0m\n\u001b[1;32m     31\u001b[0m \u001b[38;5;66;03m# k_dom = np.linspace(0.01 * k_eq, k_eq, 1000)\u001b[39;00m\n\u001b[1;32m     32\u001b[0m k_dom \u001b[38;5;241m=\u001b[39m np\u001b[38;5;241m.\u001b[39mlinspace(hc_H_inv(tau_0), k_eq, \u001b[38;5;241m1000\u001b[39m)\n\u001b[0;32m---> 33\u001b[0m t_num \u001b[38;5;241m=\u001b[39m (np\u001b[38;5;241m.\u001b[39mvectorize(transfer_num))(k_dom)\n\u001b[1;32m     34\u001b[0m t_exp \u001b[38;5;241m=\u001b[39m (np\u001b[38;5;241m.\u001b[39mvectorize(transfer_nobes))(k_dom)\n\u001b[1;32m     36\u001b[0m plt\u001b[38;5;241m.\u001b[39mplot(k_dom, t_exp, c \u001b[38;5;241m=\u001b[39m \u001b[38;5;124m\"\u001b[39m\u001b[38;5;124mg\u001b[39m\u001b[38;5;124m\"\u001b[39m)\n",
      "File \u001b[0;32m~/miniconda3/envs/research/lib/python3.11/site-packages/numpy/lib/function_base.py:2372\u001b[0m, in \u001b[0;36mvectorize.__call__\u001b[0;34m(self, *args, **kwargs)\u001b[0m\n\u001b[1;32m   2369\u001b[0m     \u001b[38;5;28mself\u001b[39m\u001b[38;5;241m.\u001b[39m_init_stage_2(\u001b[38;5;241m*\u001b[39margs, \u001b[38;5;241m*\u001b[39m\u001b[38;5;241m*\u001b[39mkwargs)\n\u001b[1;32m   2370\u001b[0m     \u001b[38;5;28;01mreturn\u001b[39;00m \u001b[38;5;28mself\u001b[39m\n\u001b[0;32m-> 2372\u001b[0m \u001b[38;5;28;01mreturn\u001b[39;00m \u001b[38;5;28mself\u001b[39m\u001b[38;5;241m.\u001b[39m_call_as_normal(\u001b[38;5;241m*\u001b[39margs, \u001b[38;5;241m*\u001b[39m\u001b[38;5;241m*\u001b[39mkwargs)\n",
      "File \u001b[0;32m~/miniconda3/envs/research/lib/python3.11/site-packages/numpy/lib/function_base.py:2365\u001b[0m, in \u001b[0;36mvectorize._call_as_normal\u001b[0;34m(self, *args, **kwargs)\u001b[0m\n\u001b[1;32m   2362\u001b[0m     vargs \u001b[38;5;241m=\u001b[39m [args[_i] \u001b[38;5;28;01mfor\u001b[39;00m _i \u001b[38;5;129;01min\u001b[39;00m inds]\n\u001b[1;32m   2363\u001b[0m     vargs\u001b[38;5;241m.\u001b[39mextend([kwargs[_n] \u001b[38;5;28;01mfor\u001b[39;00m _n \u001b[38;5;129;01min\u001b[39;00m names])\n\u001b[0;32m-> 2365\u001b[0m \u001b[38;5;28;01mreturn\u001b[39;00m \u001b[38;5;28mself\u001b[39m\u001b[38;5;241m.\u001b[39m_vectorize_call(func\u001b[38;5;241m=\u001b[39mfunc, args\u001b[38;5;241m=\u001b[39mvargs)\n",
      "File \u001b[0;32m~/miniconda3/envs/research/lib/python3.11/site-packages/numpy/lib/function_base.py:2450\u001b[0m, in \u001b[0;36mvectorize._vectorize_call\u001b[0;34m(self, func, args)\u001b[0m\n\u001b[1;32m   2448\u001b[0m     res \u001b[38;5;241m=\u001b[39m func()\n\u001b[1;32m   2449\u001b[0m \u001b[38;5;28;01melse\u001b[39;00m:\n\u001b[0;32m-> 2450\u001b[0m     ufunc, otypes \u001b[38;5;241m=\u001b[39m \u001b[38;5;28mself\u001b[39m\u001b[38;5;241m.\u001b[39m_get_ufunc_and_otypes(func\u001b[38;5;241m=\u001b[39mfunc, args\u001b[38;5;241m=\u001b[39margs)\n\u001b[1;32m   2452\u001b[0m     \u001b[38;5;66;03m# Convert args to object arrays first\u001b[39;00m\n\u001b[1;32m   2453\u001b[0m     inputs \u001b[38;5;241m=\u001b[39m [asanyarray(a, dtype\u001b[38;5;241m=\u001b[39m\u001b[38;5;28mobject\u001b[39m) \u001b[38;5;28;01mfor\u001b[39;00m a \u001b[38;5;129;01min\u001b[39;00m args]\n",
      "File \u001b[0;32m~/miniconda3/envs/research/lib/python3.11/site-packages/numpy/lib/function_base.py:2410\u001b[0m, in \u001b[0;36mvectorize._get_ufunc_and_otypes\u001b[0;34m(self, func, args)\u001b[0m\n\u001b[1;32m   2406\u001b[0m     \u001b[38;5;28;01mraise\u001b[39;00m \u001b[38;5;167;01mValueError\u001b[39;00m(\u001b[38;5;124m'\u001b[39m\u001b[38;5;124mcannot call `vectorize` on size 0 inputs \u001b[39m\u001b[38;5;124m'\u001b[39m\n\u001b[1;32m   2407\u001b[0m                      \u001b[38;5;124m'\u001b[39m\u001b[38;5;124munless `otypes` is set\u001b[39m\u001b[38;5;124m'\u001b[39m)\n\u001b[1;32m   2409\u001b[0m inputs \u001b[38;5;241m=\u001b[39m [arg\u001b[38;5;241m.\u001b[39mflat[\u001b[38;5;241m0\u001b[39m] \u001b[38;5;28;01mfor\u001b[39;00m arg \u001b[38;5;129;01min\u001b[39;00m args]\n\u001b[0;32m-> 2410\u001b[0m outputs \u001b[38;5;241m=\u001b[39m func(\u001b[38;5;241m*\u001b[39minputs)\n\u001b[1;32m   2412\u001b[0m \u001b[38;5;66;03m# Performance note: profiling indicates that -- for simple\u001b[39;00m\n\u001b[1;32m   2413\u001b[0m \u001b[38;5;66;03m# functions at least -- this wrapping can almost double the\u001b[39;00m\n\u001b[1;32m   2414\u001b[0m \u001b[38;5;66;03m# execution time.\u001b[39;00m\n\u001b[1;32m   2415\u001b[0m \u001b[38;5;66;03m# Hence we make it optional.\u001b[39;00m\n\u001b[1;32m   2416\u001b[0m \u001b[38;5;28;01mif\u001b[39;00m \u001b[38;5;28mself\u001b[39m\u001b[38;5;241m.\u001b[39mcache:\n",
      "Cell \u001b[0;32mIn[66], line 26\u001b[0m, in \u001b[0;36mtransfer_num\u001b[0;34m(k)\u001b[0m\n\u001b[1;32m     24\u001b[0m bessel \u001b[38;5;241m=\u001b[39m (\u001b[38;5;241m3\u001b[39m \u001b[38;5;241m*\u001b[39m scipy\u001b[38;5;241m.\u001b[39mspecial\u001b[38;5;241m.\u001b[39mspherical_jn(\u001b[38;5;241m1\u001b[39m, k \u001b[38;5;241m*\u001b[39m tau_0) \u001b[38;5;241m/\u001b[39m (k \u001b[38;5;241m*\u001b[39m tau_0))\n\u001b[1;32m     25\u001b[0m no_bes \u001b[38;5;241m=\u001b[39m sols\u001b[38;5;241m.\u001b[39my[\u001b[38;5;241m0\u001b[39m][\u001b[38;5;241m-\u001b[39m\u001b[38;5;241m1\u001b[39m] \u001b[38;5;241m/\u001b[39m a\n\u001b[0;32m---> 26\u001b[0m \u001b[38;5;28;01mif\u001b[39;00m no_bes \u001b[38;5;241m>\u001b[39m \u001b[38;5;241m2.2\u001b[39m:\n\u001b[1;32m     27\u001b[0m     \u001b[38;5;28;01mreturn\u001b[39;00m \u001b[38;5;241m0\u001b[39m\n\u001b[1;32m     28\u001b[0m \u001b[38;5;28;01melse\u001b[39;00m:\n",
      "\u001b[0;31mValueError\u001b[0m: The truth value of an array with more than one element is ambiguous. Use a.any() or a.all()"
     ]
    }
   ],
   "source": [
    "#attempt at calculating transfer function\n",
    "\n",
    "# #transfer function, expected\n",
    "def transfer_exp(k):\n",
    "    a = (3 * scipy.special.spherical_jn(1, k * tau_0) / (k * tau_0))\n",
    "    b = math.sqrt(1 + 1.36*(k / k_eq) + 2.5*((k / k_eq)**2))\n",
    "    return a * b\n",
    "\n",
    "def transfer_nobes(k):\n",
    "    return math.sqrt(1 + 1.36*(k / k_eq) + 2.5*((k / k_eq)**2))\n",
    "\n",
    "#helper for solve_ivp, specific to massless diff. eq.\n",
    "def derivs(k): #pass in k to use\n",
    "    def wrapper(tau, y):\n",
    "        a = y[0]\n",
    "        b = y[1]\n",
    "        return [b, -2 * curly_H(tau) * b - a * (k**2)]\n",
    "    return wrapper\n",
    "\n",
    "def transfer_num(k):\n",
    "    taus = np.linspace(1, tau_0, 2) #only need 2 points technically lol\n",
    "    #derivs given above, y0 has 1 for init h_k and 0 for h_k'\n",
    "    sols = scipy.integrate.solve_ivp(derivs(k), t_span = [taus[0], taus[-1]], y0 = [1, 0], t_eval = taus)\n",
    "    bessel = (3 * scipy.special.spherical_jn(1, k * tau_0) / (k * tau_0))\n",
    "    no_bes = sols.y[0][-1] / a\n",
    "    return (no_bes if (no_bes < 2.2) else 0)\n",
    "\n",
    "# k_dom = np.linspace(0.01 * k_eq, k_eq, 1000)\n",
    "k_dom = np.linspace(hc_H_inv(tau_0), k_eq, 1000)\n",
    "t_num = (np.vectorize(transfer_num))(k_dom)\n",
    "t_exp = (np.vectorize(transfer_nobes))(k_dom)\n",
    "\n",
    "plt.plot(k_dom, t_exp, c = \"g\")\n",
    "plt.plot(k_dom, t_num, c = \"r\")\n",
    "plt.axvline(k_eq, color = \"blue\", linestyle = \"dashed\")\n",
    "    "
   ]
  }
 ],
 "metadata": {
  "kernelspec": {
   "display_name": "research",
   "language": "python",
   "name": "python3"
  },
  "language_info": {
   "codemirror_mode": {
    "name": "ipython",
    "version": 3
   },
   "file_extension": ".py",
   "mimetype": "text/x-python",
   "name": "python",
   "nbconvert_exporter": "python",
   "pygments_lexer": "ipython3",
   "version": "3.11.5"
  }
 },
 "nbformat": 4,
 "nbformat_minor": 2
}
