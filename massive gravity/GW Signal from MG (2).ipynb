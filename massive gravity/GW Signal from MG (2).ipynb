{
 "cells": [
  {
   "cell_type": "code",
   "execution_count": 1,
   "id": "7f9e63a1",
   "metadata": {},
   "outputs": [
    {
     "name": "stdout",
     "output_type": "stream",
     "text": [
      "Intel MKL WARNING: Support of Intel(R) Streaming SIMD Extensions 4.2 (Intel(R) SSE4.2) enabled only processors has been deprecated. Intel oneAPI Math Kernel Library 2025.0 will require Intel(R) Advanced Vector Extensions (Intel(R) AVX) instructions.\n",
      "Intel MKL WARNING: Support of Intel(R) Streaming SIMD Extensions 4.2 (Intel(R) SSE4.2) enabled only processors has been deprecated. Intel oneAPI Math Kernel Library 2025.0 will require Intel(R) Advanced Vector Extensions (Intel(R) AVX) instructions.\n",
      "3.10.4 (main, Mar 31 2022, 03:38:35) [Clang 12.0.0 ]\n"
     ]
    }
   ],
   "source": [
    "import sys\n",
    "import matplotlib.pyplot as plt\n",
    "\n",
    "import numpy as np\n",
    "from scipy.integrate import solve_ivp\n",
    "\n",
    "print (sys.version)"
   ]
  },
  {
   "cell_type": "code",
   "execution_count": 2,
   "id": "258b4c95",
   "metadata": {},
   "outputs": [],
   "source": [
    "#Indirect Solution\n",
    "\n",
    "def rd_eq_new(m_gw, k, a_func):\n",
    "    def diff_eq(eta, y):\n",
    "        g = y[0]\n",
    "        v = y[1]\n",
    "        return [v, -(2 * v / eta) - g*(k**2 + (a_func(eta) * m_gw)**2)]\n",
    "    return diff_eq\n",
    "\n",
    "def simulator(m_gw, k, a_func, confTuple, era_func):\n",
    "    if (confTuple[0] == confTuple[1]):\n",
    "        return 1\n",
    "    \n",
    "    #range of conf time values\n",
    "    eta_range = np.logspace(confTuple[0], confTuple[1], confTuple[2])\n",
    "    \n",
    "    #solve over time range\n",
    "    sol = solve_ivp(era_func(m_gw, k, a_func), t_span = [eta_range[0], eta_range[-1]], y0 = [1, 0], t_eval = eta_range)\n",
    "    \n",
    "    #return last value of array\n",
    "    return sol.y[0][-1]\n"
   ]
  },
  {
   "cell_type": "code",
   "execution_count": 6,
   "id": "9efa8376",
   "metadata": {},
   "outputs": [
    {
     "name": "stdout",
     "output_type": "stream",
     "text": [
      "[2.02662632e+08 2.02833238e+08 2.04893362e+08 2.28060037e+08\n",
      " 8.95085360e+07 1.45421805e+07 9.45505753e+06 2.45803976e+06\n",
      " 1.07575909e+07 4.97206956e+07]\n"
     ]
    },
    {
     "data": {
      "text/plain": [
       "[<matplotlib.lines.Line2D at 0x7ff0a0b47e50>]"
      ]
     },
     "execution_count": 6,
     "metadata": {},
     "output_type": "execute_result"
    },
    {
     "data": {
      "image/png": "[encoded data removed]",
      "text/plain": [
       "<Figure size 1152x576 with 1 Axes>"
      ]
     },
     "metadata": {
      "needs_background": "light"
     },
     "output_type": "display_data"
    }
   ],
   "source": [
    "sc = 8\n",
    "plt.figure(figsize=(sc * 2, sc * 1))\n",
    "plt.xscale('log', base = 10)\n",
    "\n",
    "# plt.xlabel(xl, fontsize = 15)\n",
    "# plt.ylabel(yl, fontsize = 15)\n",
    "# plt.title(tl, fontsize = 15)\n",
    "\n",
    "#test k value\n",
    "k = 1\n",
    "m_gw = 1\n",
    "\n",
    "def a_rd(e): \n",
    "    return e\n",
    "\n",
    "#generate eta range and omega values\n",
    "etas = np.logspace(-5, 0, 10)\n",
    "omegas = np.sqrt((k / a_rd(etas))**2 + m_gw**2)\n",
    "pairs = np.array((etas, omegas)).T\n",
    "\n",
    "#takes in a pair\n",
    "def ps_mg(eta, w):\n",
    "    k1 = a_rd(eta) * np.sqrt(w**2 - m_gw**2)\n",
    "    prefactors = (w**2 / (w**2 - m_gw**2)) * (2 * k**3 / np.pi**2)\n",
    "    sim =  simulator(m_gw, k1, a_rd, (-5, np.log10(eta), 100), rd_eq_new) ** 2\n",
    "    return prefactors * sim\n",
    "\n",
    "#use vectorization\n",
    "vec_ps_mg = np.vectorize(ps_mg)\n",
    "\n",
    "#resulting power spectrum ?\n",
    "res_mg = vec_ps_mg(etas, omegas)\n",
    "print(res_mg)\n",
    "\n",
    "plt.plot(omegas, res_mg,)\n"
   ]
  },
  {
   "cell_type": "code",
   "execution_count": 4,
   "id": "87218684",
   "metadata": {},
   "outputs": [
    {
     "name": "stdout",
     "output_type": "stream",
     "text": [
      "[ 7.5 14.  22.5]\n"
     ]
    }
   ],
   "source": [
    "a = [3, 4, 5]\n",
    "\n",
    "def foo(x, y, z):\n",
    "    return np.sum(np.linspace(x, y, z))\n",
    "\n",
    "vecfoo = np.vectorize(foo)\n",
    "\n",
    "print(vecfoo([1, 2, 3], [4, 5, 6], a))\n"
   ]
  },
  {
   "cell_type": "code",
   "execution_count": null,
   "id": "a0203a19",
   "metadata": {},
   "outputs": [],
   "source": []
  }
 ],
 "metadata": {
  "kernelspec": {
   "display_name": "Python 3 (ipykernel)",
   "language": "python",
   "name": "python3"
  },
  "language_info": {
   "codemirror_mode": {
    "name": "ipython",
    "version": 3
   },
   "file_extension": ".py",
   "mimetype": "text/x-python",
   "name": "python",
   "nbconvert_exporter": "python",
   "pygments_lexer": "ipython3",
   "version": "3.11.4"
  }
 },
 "nbformat": 4,
 "nbformat_minor": 5
}
